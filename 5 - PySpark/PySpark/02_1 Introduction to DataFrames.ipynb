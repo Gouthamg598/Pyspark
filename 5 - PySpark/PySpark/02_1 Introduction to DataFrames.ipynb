{
 "cells": [
  {
   "cell_type": "markdown",
   "id": "d5d7cdae-5127-46f9-b804-258fab3abd64",
   "metadata": {},
   "source": [
    "# What is DataFrame\n",
    "\n",
    "API Documentation: https://spark.apache.org/docs/3.5.0/api/python/reference/pyspark.sql/api/pyspark.sql.DataFrame.html\n",
    "https://spark.apache.org/docs/3.5.0/api/python/reference/pyspark.sql/dataframe.html"
   ]
  },
  {
   "cell_type": "code",
   "execution_count": 1,
   "id": "5ab2c2a9-7758-4d4d-9a86-619e25a7322f",
   "metadata": {
    "tags": []
   },
   "outputs": [],
   "source": [
    "from pyspark.sql import SparkSession\n",
    "\n",
    "spark = (SparkSession.builder \n",
    "                    .master(\"local[*]\") \n",
    "                    .appName(\"Create Dataframe\") \n",
    "                    .getOrCreate())"
   ]
  },
  {
   "cell_type": "code",
   "execution_count": 2,
   "id": "abd7bbd9-efb2-4ad4-8ce0-ebeee4dc9264",
   "metadata": {
    "tags": []
   },
   "outputs": [
    {
     "data": {
      "text/html": [
       "\n",
       "            <div>\n",
       "                <p><b>SparkSession - in-memory</b></p>\n",
       "                \n",
       "        <div>\n",
       "            <p><b>SparkContext</b></p>\n",
       "\n",
       "            <p><a href=\"http://d5775686e5e4:4040\">Spark UI</a></p>\n",
       "\n",
       "            <dl>\n",
       "              <dt>Version</dt>\n",
       "                <dd><code>v3.5.3</code></dd>\n",
       "              <dt>Master</dt>\n",
       "                <dd><code>local[*]</code></dd>\n",
       "              <dt>AppName</dt>\n",
       "                <dd><code>Create Dataframe</code></dd>\n",
       "            </dl>\n",
       "        </div>\n",
       "        \n",
       "            </div>\n",
       "        "
      ],
      "text/plain": [
       "<pyspark.sql.session.SparkSession at 0x7ff10ed809a0>"
      ]
     },
     "execution_count": 2,
     "metadata": {},
     "output_type": "execute_result"
    }
   ],
   "source": [
    "spark"
   ]
  },
  {
   "cell_type": "code",
   "execution_count": 3,
   "id": "b7b6a22a-c597-4738-a5f5-40042028451b",
   "metadata": {
    "tags": []
   },
   "outputs": [
    {
     "data": {
      "text/plain": [
       "8"
      ]
     },
     "execution_count": 3,
     "metadata": {},
     "output_type": "execute_result"
    }
   ],
   "source": [
    "spark.sparkContext.defaultParallelism"
   ]
  },
  {
   "cell_type": "code",
   "execution_count": 5,
   "id": "6ce375e5-51a9-41f4-bd93-23dfce6351de",
   "metadata": {
    "tags": []
   },
   "outputs": [],
   "source": [
    "customer_data = [\n",
    "    [\"C1\",\"Pratap\",\"16-12-1979\",\"10000\"],\n",
    "    [\"C2\",\"Sruthi\",\"08-01-1984\",\"20000\"],\n",
    "    [\"C3\",\"Kiyanshita\",\"24-08-2011\",\"30000\"],\n",
    "    [\"C4\",\"Nirupama\",\"01-11-2022\",\"40000\"]\n",
    "]"
   ]
  },
  {
   "cell_type": "code",
   "execution_count": 7,
   "id": "dd392eab-f252-4c61-b473-41c5a89f7855",
   "metadata": {
    "tags": []
   },
   "outputs": [],
   "source": [
    "df = spark.createDataFrame(data=customer_data)"
   ]
  },
  {
   "cell_type": "code",
   "execution_count": 8,
   "id": "a4d4390d-a8d3-4cfa-8b95-afa3ac680be3",
   "metadata": {
    "tags": []
   },
   "outputs": [
    {
     "name": "stdout",
     "output_type": "stream",
     "text": [
      "+---+----------+----------+-----+\n",
      "| _1|        _2|        _3|   _4|\n",
      "+---+----------+----------+-----+\n",
      "| C1|    Pratap|16-12-1979|10000|\n",
      "| C2|    Sruthi|08-01-1984|20000|\n",
      "| C3|Kiyanshita|24-08-2011|30000|\n",
      "| C4|  Nirupama|01-11-2022|40000|\n",
      "+---+----------+----------+-----+\n",
      "\n"
     ]
    }
   ],
   "source": [
    "df.show()"
   ]
  },
  {
   "cell_type": "code",
   "execution_count": 13,
   "id": "0cb53a9b-fc7d-4c5c-8f13-05abaf53fda6",
   "metadata": {
    "tags": []
   },
   "outputs": [
    {
     "name": "stdout",
     "output_type": "stream",
     "text": [
      "root\n",
      " |-- _1: string (nullable = true)\n",
      " |-- _2: string (nullable = true)\n",
      " |-- _3: string (nullable = true)\n",
      " |-- _4: string (nullable = true)\n",
      "\n"
     ]
    }
   ],
   "source": [
    "df.printSchema()"
   ]
  },
  {
   "cell_type": "code",
   "execution_count": 15,
   "id": "c2c3c47a-8d81-4990-98a2-f28759badcba",
   "metadata": {
    "tags": []
   },
   "outputs": [],
   "source": [
    "customer_data = [\n",
    "    [\"C1\",\"Pratap\",\"16-12-1979\",\"10000\"],\n",
    "    [\"C2\",\"Sruthi\",\"08-01-1984\",\"20000\"],\n",
    "    [\"C3\",\"Kiyanshita\",\"24-08-2011\",\"30000\"],\n",
    "    [\"C4\",\"Nirupama\",\"01-11-2022\",\"40000\"]\n",
    "]\n",
    "\n",
    "customer_schema = \"CustomerID string, CustomerName String, CustomerDoB String, CustomerSalary String\""
   ]
  },
  {
   "cell_type": "code",
   "execution_count": 16,
   "id": "7e020969-cc0f-49a8-8dc6-a83174bc6fb8",
   "metadata": {
    "tags": []
   },
   "outputs": [],
   "source": [
    "df = spark.createDataFrame(data=customer_data, schema=customer_schema)"
   ]
  },
  {
   "cell_type": "code",
   "execution_count": 17,
   "id": "6f2a960c-b4e0-4691-ae84-dca76c036c28",
   "metadata": {
    "tags": []
   },
   "outputs": [
    {
     "name": "stdout",
     "output_type": "stream",
     "text": [
      "root\n",
      " |-- CustomerID: string (nullable = true)\n",
      " |-- CustomerName: string (nullable = true)\n",
      " |-- CustomerDoB: string (nullable = true)\n",
      " |-- CustomerSalary: string (nullable = true)\n",
      "\n"
     ]
    }
   ],
   "source": [
    "df.printSchema()"
   ]
  },
  {
   "cell_type": "code",
   "execution_count": 18,
   "id": "ddb60601-c618-4e96-9180-c83fc2b11f50",
   "metadata": {
    "tags": []
   },
   "outputs": [
    {
     "name": "stdout",
     "output_type": "stream",
     "text": [
      "+----------+------------+-----------+--------------+\n",
      "|CustomerID|CustomerName|CustomerDoB|CustomerSalary|\n",
      "+----------+------------+-----------+--------------+\n",
      "|        C1|      Pratap| 16-12-1979|         10000|\n",
      "|        C2|      Sruthi| 08-01-1984|         20000|\n",
      "|        C3|  Kiyanshita| 24-08-2011|         30000|\n",
      "|        C4|    Nirupama| 01-11-2022|         40000|\n",
      "+----------+------------+-----------+--------------+\n",
      "\n"
     ]
    }
   ],
   "source": [
    "df.show()"
   ]
  },
  {
   "cell_type": "code",
   "execution_count": 19,
   "id": "5231afeb-922c-4c11-8e33-ecea22828e2c",
   "metadata": {
    "tags": []
   },
   "outputs": [],
   "source": [
    "customer_data = [\n",
    "    [\"C1\",\"Pratap\",\"16-12-1979\",10000],\n",
    "    [\"C2\",\"Sruthi\",\"08-01-1984\",20000],\n",
    "    [\"C3\",\"Kiyanshita\",\"24-08-2011\",30000],\n",
    "    [\"C4\",\"Nirupama\",\"01-11-2022\",40000]\n",
    "]\n",
    "\n",
    "customer_schema = \"CustomerID string, CustomerName String, CustomerDoB String, CustomerSalary Integer\""
   ]
  },
  {
   "cell_type": "code",
   "execution_count": 20,
   "id": "9647546a-790d-4304-83b4-d106965b308c",
   "metadata": {
    "tags": []
   },
   "outputs": [],
   "source": [
    "df = spark.createDataFrame(data=customer_data, schema=customer_schema)"
   ]
  },
  {
   "cell_type": "code",
   "execution_count": 21,
   "id": "d73714ee-dc9a-4a44-bf30-ce6a3e52a9d3",
   "metadata": {
    "tags": []
   },
   "outputs": [
    {
     "name": "stdout",
     "output_type": "stream",
     "text": [
      "root\n",
      " |-- CustomerID: string (nullable = true)\n",
      " |-- CustomerName: string (nullable = true)\n",
      " |-- CustomerDoB: string (nullable = true)\n",
      " |-- CustomerSalary: integer (nullable = true)\n",
      "\n"
     ]
    }
   ],
   "source": [
    "df.printSchema()"
   ]
  },
  {
   "cell_type": "code",
   "execution_count": 22,
   "id": "19f55297-7f4a-4e58-9ce3-95b375059b71",
   "metadata": {
    "tags": []
   },
   "outputs": [
    {
     "name": "stdout",
     "output_type": "stream",
     "text": [
      "+----------+------------+-----------+--------------+\n",
      "|CustomerID|CustomerName|CustomerDoB|CustomerSalary|\n",
      "+----------+------------+-----------+--------------+\n",
      "|        C1|      Pratap| 16-12-1979|         10000|\n",
      "|        C2|      Sruthi| 08-01-1984|         20000|\n",
      "|        C3|  Kiyanshita| 24-08-2011|         30000|\n",
      "|        C4|    Nirupama| 01-11-2022|         40000|\n",
      "+----------+------------+-----------+--------------+\n",
      "\n"
     ]
    }
   ],
   "source": [
    "df.show()"
   ]
  },
  {
   "cell_type": "code",
   "execution_count": null,
   "id": "ae33ff49-a76b-406a-8a6c-a9c9846a30c6",
   "metadata": {},
   "outputs": [],
   "source": []
  }
 ],
 "metadata": {
  "kernelspec": {
   "display_name": "Python 3 (ipykernel)",
   "language": "python",
   "name": "python3"
  },
  "language_info": {
   "codemirror_mode": {
    "name": "ipython",
    "version": 3
   },
   "file_extension": ".py",
   "mimetype": "text/x-python",
   "name": "python",
   "nbconvert_exporter": "python",
   "pygments_lexer": "ipython3",
   "version": "3.10.12"
  }
 },
 "nbformat": 4,
 "nbformat_minor": 5
}
