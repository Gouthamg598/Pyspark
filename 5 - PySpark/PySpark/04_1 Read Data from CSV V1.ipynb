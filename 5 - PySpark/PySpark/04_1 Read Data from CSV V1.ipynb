{
 "cells": [
  {
   "cell_type": "code",
   "execution_count": null,
   "id": "ebd3c1e9-fb1f-4793-8790-b77200acba2d",
   "metadata": {},
   "outputs": [],
   "source": [
    "from pyspark.sql import SparkSession\n",
    "\n",
    "spark = SparkSession.builder \\\n",
    "                    .master(\"local[*]\") \\\n",
    "                    .appName(\"Create Dataframe\") \\\n",
    "                    .getOrCreate()"
   ]
  },
  {
   "cell_type": "code",
   "execution_count": null,
   "id": "2fdc3bc8-1dee-40d7-acdf-ea71dc5f9c69",
   "metadata": {},
   "outputs": [],
   "source": [
    "spark"
   ]
  },
  {
   "cell_type": "code",
   "execution_count": null,
   "id": "9791b3ea-238a-44e3-8a90-5ecfda63d880",
   "metadata": {},
   "outputs": [],
   "source": [
    "import os\n",
    "\n",
    "# Specify the relative path\n",
    "relative_path = \"2_Customer_Master_Data.csv\"\n",
    "\n",
    "# Get the absolute path\n",
    "absolute_path = os.path.abspath(relative_path)\n",
    "print(\"Absolute Path:\", absolute_path)"
   ]
  },
  {
   "cell_type": "code",
   "execution_count": null,
   "id": "b2ef2905-129c-417b-b0fc-3123a1fa654b",
   "metadata": {},
   "outputs": [],
   "source": [
    "customer_df = spark.read.format(\"csv\") \\\n",
    "                        .load(\"./Input/2_Customer_Master_Data.csv\")"
   ]
  },
  {
   "cell_type": "code",
   "execution_count": null,
   "id": "a84c0984-d646-4570-937a-597b2477cb67",
   "metadata": {},
   "outputs": [],
   "source": [
    "customer_df.printSchema()"
   ]
  },
  {
   "cell_type": "code",
   "execution_count": null,
   "id": "6e9197f1-22c1-4af7-a636-6947cbbe3225",
   "metadata": {},
   "outputs": [],
   "source": [
    "customer_df.show()"
   ]
  },
  {
   "cell_type": "code",
   "execution_count": null,
   "id": "52568fcb-60f7-4114-adcc-7ff130a96f60",
   "metadata": {},
   "outputs": [],
   "source": [
    "customer_df = spark.read.format(\"csv\") \\\n",
    "                        .option(\"header\",True) \\\n",
    "                        .option(\"inferSchema\", True ) \\\n",
    "                        .load(\"./Input/2_Customer_Master_Data.csv\")"
   ]
  },
  {
   "cell_type": "code",
   "execution_count": null,
   "id": "8e6d298a-8c4a-47d4-aede-cdc12328cea6",
   "metadata": {},
   "outputs": [],
   "source": [
    "customer_df.printSchema()"
   ]
  },
  {
   "cell_type": "code",
   "execution_count": null,
   "id": "82203a34-3218-4f1a-b5b4-f9740725c285",
   "metadata": {},
   "outputs": [],
   "source": [
    "customer_df.show()"
   ]
  },
  {
   "cell_type": "code",
   "execution_count": null,
   "id": "50ba79a3-dbd0-4996-b28e-e03405a585fe",
   "metadata": {},
   "outputs": [],
   "source": [
    "customer_schema = \"\"\"\n",
    "                    CustomerID integer,\n",
    "                    CustomerName string,\n",
    "                    CustomerBucket string,\n",
    "                    CustomerRegion string,\n",
    "                    LessThanFullTruckLoad string,\n",
    "                    YearOnYearVolumeIncrease string\n",
    "                \"\"\""
   ]
  },
  {
   "cell_type": "code",
   "execution_count": null,
   "id": "9fc77d8a-6c84-4d11-8e10-963161ee5f68",
   "metadata": {},
   "outputs": [],
   "source": [
    "customer_df = spark.read.format(\"csv\") \\\n",
    "                        .option(\"header\",True) \\\n",
    "                        .schema(customer_schema) \\\n",
    "                        .load(\"./Input/2_Customer_Master_Data.csv\")"
   ]
  },
  {
   "cell_type": "code",
   "execution_count": null,
   "id": "874594a8-3931-414c-85b3-03ade27ee1bd",
   "metadata": {},
   "outputs": [],
   "source": [
    "customer_df.printSchema()"
   ]
  },
  {
   "cell_type": "code",
   "execution_count": null,
   "id": "e78830f9-245c-47b8-bb89-ea15a769029f",
   "metadata": {},
   "outputs": [],
   "source": [
    "customer_df.show()"
   ]
  },
  {
   "cell_type": "code",
   "execution_count": null,
   "id": "2d7a39ec-5f83-43ac-a64e-694b97f51ad1",
   "metadata": {},
   "outputs": [],
   "source": [
    "# Mode\n",
    "# https://spark.apache.org/docs/latest/sql-data-sources-csv.html#data-source-option\n",
    "\n",
    "# 1. PERMISSIVE  - Defualt - Bad records into a column _corrupt_record. \n",
    "                #   we can rename the column using otion ( columnNameOfCorruptRecord )\n",
    "# 2. DROPMALFORMED - will drop bad records while reading\n",
    "# 3. FAILFAST - job will fail if there are any bad records. \n",
    "                # it will as soon as it hits the bad record\n",
    "\n",
    "# Note : Mode will work only incase where schema has beed specified"
   ]
  },
  {
   "cell_type": "code",
   "execution_count": null,
   "id": "6f70a442-84e0-4134-88b3-5e2cc1c7a667",
   "metadata": {},
   "outputs": [],
   "source": [
    "sales_schema = \"\"\"SalesOrder string, \n",
    "                    OrderDate string, \n",
    "                    CustomerID integer, \n",
    "                    City string, \n",
    "                    Country string, \n",
    "                    ProductID integer, \n",
    "                    Price integer, \n",
    "                    Qty_Sold integer, \n",
    "                    Qty_Sold_Units string, \n",
    "                    Amount integer, \n",
    "                    Amount_Currency string, \n",
    "                    ShipDate string,\n",
    "                    OrderStatus string,\n",
    "                    bad_records string\n",
    "                    \"\"\""
   ]
  },
  {
   "cell_type": "code",
   "execution_count": null,
   "id": "5b787568-2e38-4e31-a05d-9a7f67066c35",
   "metadata": {},
   "outputs": [],
   "source": [
    "sales_bad_df = spark.read.format(\"csv\") \\\n",
    "                        .option(\"header\",True) \\\n",
    "                        .schema(sales_schema) \\\n",
    "                        .option(\"mode\", \"PERMISSIVE\" ) \\\n",
    "                        .option(\"columnNameOfCorruptRecord\", \"bad_records\") \\\n",
    "                        .load(\"./Input/1_sales_orders_bad_records.csv\")"
   ]
  },
  {
   "cell_type": "code",
   "execution_count": null,
   "id": "53656063-4276-4aab-9315-e89615fa34a4",
   "metadata": {},
   "outputs": [],
   "source": [
    "sales_bad_df.show()"
   ]
  },
  {
   "cell_type": "code",
   "execution_count": null,
   "id": "f6ebe93d-daca-43b5-a4a5-dd78de4c6574",
   "metadata": {},
   "outputs": [],
   "source": [
    "sales_bad_df.where(\"bad_records is not null\").show(truncate=False)                                                           "
   ]
  },
  {
   "cell_type": "code",
   "execution_count": null,
   "id": "8a6c793e-6660-4454-9323-a7c54896fbd0",
   "metadata": {},
   "outputs": [],
   "source": [
    "sales_schema = \"\"\"SalesOrder string, \n",
    "                    OrderDate string, \n",
    "                    CustomerID integer, \n",
    "                    City string, \n",
    "                    Country string, \n",
    "                    ProductID integer, \n",
    "                    Price integer, \n",
    "                    Qty_Sold integer, \n",
    "                    Qty_Sold_Units string, \n",
    "                    Amount integer, \n",
    "                    Amount_Currency string, \n",
    "                    ShipDate string,\n",
    "                    OrderStatus string\n",
    "                    \"\"\""
   ]
  },
  {
   "cell_type": "code",
   "execution_count": null,
   "id": "dccc5df3-68a6-4cf8-ad00-f8888d5afb93",
   "metadata": {},
   "outputs": [],
   "source": [
    "sales_bad_df = spark.read.format(\"csv\") \\\n",
    "                        .option(\"header\",True) \\\n",
    "                        .schema(sales_schema) \\\n",
    "                        .option(\"mode\", \"DROPMALFORMED\" ) \\\n",
    "                        .load(\"./Input/1_sales_orders_bad_records.csv\")"
   ]
  },
  {
   "cell_type": "code",
   "execution_count": null,
   "id": "54191b55-c840-4650-b14a-5863678a23b0",
   "metadata": {},
   "outputs": [],
   "source": [
    "sales_bad_df.show()"
   ]
  },
  {
   "cell_type": "code",
   "execution_count": null,
   "id": "3b7e06f1-cd12-4e84-a25a-d39224c72644",
   "metadata": {},
   "outputs": [],
   "source": [
    "sales_bad_df = spark.read.format(\"csv\") \\\n",
    "                        .option(\"header\",True) \\\n",
    "                        .schema(sales_schema) \\\n",
    "                        .option(\"mode\", \"FAILFAST\" ) \\\n",
    "                        .load(\"./Input/1_sales_orders_bad_records.csv\")"
   ]
  },
  {
   "cell_type": "code",
   "execution_count": null,
   "id": "7814a43f-165d-42d0-97ae-81d5aa0d1dc3",
   "metadata": {},
   "outputs": [],
   "source": [
    "sales_bad_df.show()"
   ]
  },
  {
   "cell_type": "code",
   "execution_count": null,
   "id": "a5037874-f46c-4c60-880c-9dcfe6756cef",
   "metadata": {},
   "outputs": [],
   "source": [
    "csv_options = {\"header\" : \"true\",\n",
    "               \"inferSchema\" : \"true\",\n",
    "               \"sep\" : \",\"} "
   ]
  },
  {
   "cell_type": "code",
   "execution_count": null,
   "id": "5ca2f499-f48e-4b42-ab2c-d76d9e21f9ae",
   "metadata": {},
   "outputs": [],
   "source": [
    "sales_bad_df = spark.read.format(\"csv\") \\\n",
    "                        .options(**csv_options) \\\n",
    "                        .load(\"./Input/1_sales_orders_bad_records.csv\")"
   ]
  },
  {
   "cell_type": "code",
   "execution_count": null,
   "id": "de6b2c2c-c494-4451-a7e1-67df17de3c92",
   "metadata": {},
   "outputs": [],
   "source": [
    "sales_bad_df.show()"
   ]
  },
  {
   "cell_type": "code",
   "execution_count": null,
   "id": "1b882655-20ca-438d-bd60-96461705f779",
   "metadata": {},
   "outputs": [],
   "source": []
  }
 ],
 "metadata": {
  "kernelspec": {
   "display_name": "Python 3 (ipykernel)",
   "language": "python",
   "name": "python3"
  },
  "language_info": {
   "codemirror_mode": {
    "name": "ipython",
    "version": 3
   },
   "file_extension": ".py",
   "mimetype": "text/x-python",
   "name": "python",
   "nbconvert_exporter": "python",
   "pygments_lexer": "ipython3",
   "version": "3.10.12"
  }
 },
 "nbformat": 4,
 "nbformat_minor": 5
}
