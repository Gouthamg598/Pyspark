{
 "cells": [
  {
   "cell_type": "markdown",
   "id": "d5d7cdae-5127-46f9-b804-258fab3abd64",
   "metadata": {},
   "source": [
    "# What is DataFrame\n",
    "\n",
    "API Documentation: https://spark.apache.org/docs/3.5.0/api/python/reference/pyspark.sql/api/pyspark.sql.DataFrame.html\n",
    "https://spark.apache.org/docs/3.5.0/api/python/reference/pyspark.sql/dataframe.html"
   ]
  },
  {
   "cell_type": "code",
   "execution_count": 1,
   "id": "5ab2c2a9-7758-4d4d-9a86-619e25a7322f",
   "metadata": {
    "tags": []
   },
   "outputs": [],
   "source": [
    "from pyspark.sql import SparkSession\n",
    "\n",
    "spark = SparkSession.builder \\\n",
    "                    .master(\"local[*]\") \\\n",
    "                    .appName(\"Create Dataframe\") \\\n",
    "                    .getOrCreate()"
   ]
  },
  {
   "cell_type": "code",
   "execution_count": 2,
   "id": "abd7bbd9-efb2-4ad4-8ce0-ebeee4dc9264",
   "metadata": {
    "tags": []
   },
   "outputs": [
    {
     "data": {
      "text/html": [
       "\n",
       "            <div>\n",
       "                <p><b>SparkSession - in-memory</b></p>\n",
       "                \n",
       "        <div>\n",
       "            <p><b>SparkContext</b></p>\n",
       "\n",
       "            <p><a href=\"http://d5775686e5e4:4044\">Spark UI</a></p>\n",
       "\n",
       "            <dl>\n",
       "              <dt>Version</dt>\n",
       "                <dd><code>v3.5.3</code></dd>\n",
       "              <dt>Master</dt>\n",
       "                <dd><code>local[*]</code></dd>\n",
       "              <dt>AppName</dt>\n",
       "                <dd><code>Create Dataframe</code></dd>\n",
       "            </dl>\n",
       "        </div>\n",
       "        \n",
       "            </div>\n",
       "        "
      ],
      "text/plain": [
       "<pyspark.sql.session.SparkSession at 0x7f7ff88649d0>"
      ]
     },
     "execution_count": 2,
     "metadata": {},
     "output_type": "execute_result"
    }
   ],
   "source": [
    "spark"
   ]
  },
  {
   "cell_type": "code",
   "execution_count": null,
   "id": "b7b6a22a-c597-4738-a5f5-40042028451b",
   "metadata": {
    "tags": []
   },
   "outputs": [],
   "source": [
    "spark.sparkContext.defaultParallelism"
   ]
  },
  {
   "cell_type": "code",
   "execution_count": 3,
   "id": "5231afeb-922c-4c11-8e33-ecea22828e2c",
   "metadata": {
    "tags": []
   },
   "outputs": [],
   "source": [
    "customer_data = [\n",
    "    [\"C1\",\"Pratap\",\"16-12-1979\",10000],\n",
    "    [\"C2\",\"Sruthi\",\"08-01-1984\",20000],\n",
    "    [\"C3\",\"Kiyanshita\",\"24-08-2011\",30000],\n",
    "    [\"C4\",\"Nirupama\",\"01-11-2022\",40000]\n",
    "]\n",
    "\n",
    "customer_schema = \"CustomerID string, CustomerName String, CustomerDoB String, CustomerSalary Integer\""
   ]
  },
  {
   "cell_type": "code",
   "execution_count": 4,
   "id": "9647546a-790d-4304-83b4-d106965b308c",
   "metadata": {
    "tags": []
   },
   "outputs": [],
   "source": [
    "df = spark.createDataFrame(data=customer_data, schema=customer_schema)"
   ]
  },
  {
   "cell_type": "code",
   "execution_count": 17,
   "id": "d73714ee-dc9a-4a44-bf30-ce6a3e52a9d3",
   "metadata": {
    "tags": []
   },
   "outputs": [
    {
     "name": "stdout",
     "output_type": "stream",
     "text": [
      "root\n",
      " |-- CustomerID: string (nullable = true)\n",
      " |-- CustomerName: string (nullable = true)\n",
      " |-- CustomerDoB: string (nullable = true)\n",
      " |-- CustomerSalary: integer (nullable = true)\n",
      "\n"
     ]
    }
   ],
   "source": [
    "df.printSchema()"
   ]
  },
  {
   "cell_type": "code",
   "execution_count": 5,
   "id": "19f55297-7f4a-4e58-9ce3-95b375059b71",
   "metadata": {
    "tags": []
   },
   "outputs": [
    {
     "name": "stdout",
     "output_type": "stream",
     "text": [
      "+----------+------------+-----------+--------------+\n",
      "|CustomerID|CustomerName|CustomerDoB|CustomerSalary|\n",
      "+----------+------------+-----------+--------------+\n",
      "|        C1|      Pratap| 16-12-1979|         10000|\n",
      "|        C2|      Sruthi| 08-01-1984|         20000|\n",
      "|        C3|  Kiyanshita| 24-08-2011|         30000|\n",
      "|        C4|    Nirupama| 01-11-2022|         40000|\n",
      "+----------+------------+-----------+--------------+\n",
      "\n"
     ]
    }
   ],
   "source": [
    "df.show()"
   ]
  },
  {
   "cell_type": "code",
   "execution_count": 6,
   "id": "f3170806-32f3-407d-8814-73dc8fabad03",
   "metadata": {
    "tags": []
   },
   "outputs": [
    {
     "data": {
      "text/plain": [
       "Row(CustomerID='C1', CustomerName='Pratap', CustomerDoB='16-12-1979', CustomerSalary=10000)"
      ]
     },
     "execution_count": 6,
     "metadata": {},
     "output_type": "execute_result"
    }
   ],
   "source": [
    "df.first()"
   ]
  },
  {
   "cell_type": "code",
   "execution_count": 8,
   "id": "8d1f8c34-4aa2-4e6c-bb07-46b960eae974",
   "metadata": {
    "tags": []
   },
   "outputs": [],
   "source": [
    "row = df.first()"
   ]
  },
  {
   "cell_type": "code",
   "execution_count": 9,
   "id": "0aa2a5ac-685f-4dac-91c2-19e680cd0c15",
   "metadata": {
    "tags": []
   },
   "outputs": [
    {
     "data": {
      "text/plain": [
       "Row(CustomerID='C1', CustomerName='Pratap', CustomerDoB='16-12-1979', CustomerSalary=10000)"
      ]
     },
     "execution_count": 9,
     "metadata": {},
     "output_type": "execute_result"
    }
   ],
   "source": [
    "row"
   ]
  },
  {
   "cell_type": "code",
   "execution_count": 10,
   "id": "e9fa6eed-6359-44f4-8a99-43279d168641",
   "metadata": {
    "tags": []
   },
   "outputs": [
    {
     "data": {
      "text/plain": [
       "'C1'"
      ]
     },
     "execution_count": 10,
     "metadata": {},
     "output_type": "execute_result"
    }
   ],
   "source": [
    "row[\"CustomerID\"]"
   ]
  },
  {
   "cell_type": "code",
   "execution_count": 11,
   "id": "92871185-11af-4734-88ab-661df0a76a72",
   "metadata": {
    "tags": []
   },
   "outputs": [
    {
     "data": {
      "text/plain": [
       "Row(CustomerID='C1', CustomerName='Pratap', CustomerDoB='16-12-1979', CustomerSalary=10000)"
      ]
     },
     "execution_count": 11,
     "metadata": {},
     "output_type": "execute_result"
    }
   ],
   "source": [
    "df.head()"
   ]
  },
  {
   "cell_type": "code",
   "execution_count": 12,
   "id": "0c6abe18-5008-43d2-8a47-ab787694a782",
   "metadata": {
    "tags": []
   },
   "outputs": [
    {
     "data": {
      "text/plain": [
       "[Row(CustomerID='C1', CustomerName='Pratap', CustomerDoB='16-12-1979', CustomerSalary=10000),\n",
       " Row(CustomerID='C2', CustomerName='Sruthi', CustomerDoB='08-01-1984', CustomerSalary=20000),\n",
       " Row(CustomerID='C3', CustomerName='Kiyanshita', CustomerDoB='24-08-2011', CustomerSalary=30000)]"
      ]
     },
     "execution_count": 12,
     "metadata": {},
     "output_type": "execute_result"
    }
   ],
   "source": [
    "df.head(3)"
   ]
  },
  {
   "cell_type": "code",
   "execution_count": 14,
   "id": "2c0f429c-d834-446f-9200-d2eb0d945c74",
   "metadata": {
    "tags": []
   },
   "outputs": [
    {
     "data": {
      "text/plain": [
       "'C2'"
      ]
     },
     "execution_count": 14,
     "metadata": {},
     "output_type": "execute_result"
    }
   ],
   "source": [
    "df.head(3)[1][\"CustomerID\"]"
   ]
  },
  {
   "cell_type": "code",
   "execution_count": 22,
   "id": "a033eec9-8163-49e7-a176-3a41980b73e9",
   "metadata": {
    "tags": []
   },
   "outputs": [
    {
     "data": {
      "text/plain": [
       "'C2'"
      ]
     },
     "execution_count": 22,
     "metadata": {},
     "output_type": "execute_result"
    }
   ],
   "source": [
    "df.head(3)[1][\"CustomerID\"]"
   ]
  },
  {
   "cell_type": "code",
   "execution_count": 29,
   "id": "3f05f9a4-b4a8-45e9-80d7-f57ecb65c3ad",
   "metadata": {
    "tags": []
   },
   "outputs": [
    {
     "data": {
      "text/plain": [
       "Row(CustomerID='C4', CustomerName='Nirupama', CustomerDoB='01-11-2022', CustomerSalary=40000)"
      ]
     },
     "execution_count": 29,
     "metadata": {},
     "output_type": "execute_result"
    }
   ],
   "source": [
    "df.filter(df[\"CustomerSalary\"] > 30000).head()"
   ]
  },
  {
   "cell_type": "code",
   "execution_count": null,
   "id": "1191caf9-f098-455b-baab-0cc5058363c9",
   "metadata": {},
   "outputs": [],
   "source": []
  }
 ],
 "metadata": {
  "kernelspec": {
   "display_name": "Python 3 (ipykernel)",
   "language": "python",
   "name": "python3"
  },
  "language_info": {
   "codemirror_mode": {
    "name": "ipython",
    "version": 3
   },
   "file_extension": ".py",
   "mimetype": "text/x-python",
   "name": "python",
   "nbconvert_exporter": "python",
   "pygments_lexer": "ipython3",
   "version": "3.10.12"
  }
 },
 "nbformat": 4,
 "nbformat_minor": 5
}
