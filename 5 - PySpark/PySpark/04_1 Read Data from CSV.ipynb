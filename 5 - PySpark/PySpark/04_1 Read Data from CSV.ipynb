{
 "cells": [
  {
   "cell_type": "code",
   "execution_count": null,
   "id": "e2e254c8-3900-45e1-af8e-3b57c9a64893",
   "metadata": {},
   "outputs": [],
   "source": [
    "from pyspark.sql import SparkSession\n",
    "\n",
    "spark = SparkSession.builder \\\n",
    "                    .master(\"local[*]\") \\\n",
    "                    .appName(\"Create Dataframe\") \\\n",
    "                    .getOrCreate()"
   ]
  },
  {
   "cell_type": "code",
   "execution_count": null,
   "id": "dff951c9-8041-472f-ac8d-d28999251d05",
   "metadata": {},
   "outputs": [],
   "source": [
    "spark"
   ]
  },
  {
   "cell_type": "code",
   "execution_count": null,
   "id": "f4ec98c0-18fc-4f8e-ae36-f15a6ac889a4",
   "metadata": {},
   "outputs": [],
   "source": [
    "customer_df = spark.read.format(\"csv\").load(\"./Input/2_Customer_Master_Data.csv\")"
   ]
  },
  {
   "cell_type": "code",
   "execution_count": null,
   "id": "24fdd35a-db8d-41c8-be44-0ced38adf652",
   "metadata": {},
   "outputs": [],
   "source": [
    "customer_df.printSchema()"
   ]
  },
  {
   "cell_type": "code",
   "execution_count": null,
   "id": "96cf1a56-7e24-4c15-91d9-c9b80a0ff0df",
   "metadata": {},
   "outputs": [],
   "source": [
    "customer_df.show()"
   ]
  },
  {
   "cell_type": "code",
   "execution_count": null,
   "id": "be37ec3a-0b9a-4ecb-baea-55648f167d15",
   "metadata": {},
   "outputs": [],
   "source": [
    "customer_header_df = spark.read.format(\"csv\").option(\"header\",True).load(\"./Input/2_Customer_Master_Data.csv\")"
   ]
  },
  {
   "cell_type": "code",
   "execution_count": null,
   "id": "bee0e73f-5e65-4cc2-bb25-f998d1ea9c20",
   "metadata": {},
   "outputs": [],
   "source": [
    "customer_header_df.printSchema()"
   ]
  },
  {
   "cell_type": "code",
   "execution_count": null,
   "id": "6f9502bb-c456-4a46-96cc-0f2fddfb7a93",
   "metadata": {},
   "outputs": [],
   "source": [
    "customer_header_df.show()"
   ]
  },
  {
   "cell_type": "code",
   "execution_count": null,
   "id": "e48818cd-1079-4576-a25f-8ce8e038cc7c",
   "metadata": {},
   "outputs": [],
   "source": [
    "customer_header_schema_df = spark.read.format(\"csv\").option(\"header\",True).option(\"inferSchema\",True).load(\"./Input/2_Customer_Master_Data.csv\")"
   ]
  },
  {
   "cell_type": "code",
   "execution_count": null,
   "id": "9d63d0f0-8c94-41e7-9c7a-8d19b7447f28",
   "metadata": {},
   "outputs": [],
   "source": [
    "customer_header_schema_df.printSchema()"
   ]
  },
  {
   "cell_type": "code",
   "execution_count": null,
   "id": "5b9de0bb-bd6b-467b-b621-f3a2c965c544",
   "metadata": {},
   "outputs": [],
   "source": [
    "customer_header_schema_df.show()"
   ]
  },
  {
   "cell_type": "code",
   "execution_count": null,
   "id": "78147b99-b45f-4722-81ba-02877ecbd368",
   "metadata": {},
   "outputs": [],
   "source": [
    "customer_schema = \"\"\"\n",
    "                    CustomerID integer,\n",
    "                    CustomerName string,\n",
    "                    CustomerBucket string,\n",
    "                    CustomerRegion string,\n",
    "                    LessThanFullTruckLoad string,\n",
    "                    YearOnYearVolumeIncrease string\n",
    "                \"\"\""
   ]
  },
  {
   "cell_type": "code",
   "execution_count": null,
   "id": "5856f15a-6c57-41e5-a44a-9bd2f4d75773",
   "metadata": {},
   "outputs": [],
   "source": [
    "customer_header_schema_df = spark.read.format(\"csv\") \\\n",
    "                                 .option(\"header\",True) \\\n",
    "                                .schema(customer_schema) \\\n",
    "                                .load(\"./Input/2_Customer_Master_Data.csv\")"
   ]
  },
  {
   "cell_type": "code",
   "execution_count": null,
   "id": "38a2b2b3-3ce6-4d12-bd43-2fedcd143e53",
   "metadata": {},
   "outputs": [],
   "source": [
    "customer_header_schema_df.printSchema()"
   ]
  },
  {
   "cell_type": "code",
   "execution_count": null,
   "id": "73ff0263-f16f-4be2-903e-363a09eeb92c",
   "metadata": {},
   "outputs": [],
   "source": [
    "customer_header_schema_df.show()"
   ]
  },
  {
   "cell_type": "code",
   "execution_count": null,
   "id": "c7cf00ce-9317-40cc-b0c0-46a2c25a2a9e",
   "metadata": {},
   "outputs": [],
   "source": [
    "# Mode\n",
    "# https://spark.apache.org/docs/latest/sql-data-sources-csv.html#data-source-option\n",
    "\n",
    "# 1. PERMISSIVE  - Defualt - Bad records into a column _corrupt_record. \n",
    "                #   we can rename the column using otion ( columnNameOfCorruptRecord )\n",
    "# 2. DROPMALFORMED - will drop bad records while reading\n",
    "# 3. FAILFAST - job will fail if there are any bad records. \n",
    "                # it will as soon as it hits the bad record\n",
    "\n",
    "# Note : Mode will work only incase where schema has beed specified"
   ]
  },
  {
   "cell_type": "code",
   "execution_count": null,
   "id": "cb92194d-49ab-4e16-a0ef-69d403342526",
   "metadata": {},
   "outputs": [],
   "source": [
    "sales_csv_df = spark.read.format(\"csv\") \\\n",
    "                        .option(\"header\",True) \\\n",
    "                         .load(\"./Input/1_sales_orders_bad_records.csv\")"
   ]
  },
  {
   "cell_type": "code",
   "execution_count": null,
   "id": "150574a4-a236-498f-8388-ef7768dc8ea1",
   "metadata": {},
   "outputs": [],
   "source": [
    "sales_csv_df.show()"
   ]
  },
  {
   "cell_type": "code",
   "execution_count": null,
   "id": "238d50b8-a693-4f98-a356-88a90ef3bf20",
   "metadata": {},
   "outputs": [],
   "source": [
    "sales_schema = \"\"\"SalesOrder string, \n",
    "                    OrderDate string, \n",
    "                    CustomerID integer, \n",
    "                    City string, \n",
    "                    Country string, \n",
    "                    ProductID integer, \n",
    "                    Price integer, \n",
    "                    Qty_Sold integer, \n",
    "                    Qty_Sold_Units string, \n",
    "                    Amount integer, \n",
    "                    Amount_Currency string, \n",
    "                    ShipDate string,\n",
    "                    OrderStatus string\n",
    "                    \"\"\""
   ]
  },
  {
   "cell_type": "code",
   "execution_count": null,
   "id": "5a6f5f7b-f413-4993-a81d-42941a498e8a",
   "metadata": {},
   "outputs": [],
   "source": [
    "sales_csv_df = spark.read.format(\"csv\") \\\n",
    "                        .option(\"header\",True) \\\n",
    "                        .schema(sales_schema) \\\n",
    "                         .load(\"./Input/1_sales_orders_bad_records.csv\")"
   ]
  },
  {
   "cell_type": "code",
   "execution_count": null,
   "id": "1e9e1a00-a4ee-4490-962e-90df5fbee99b",
   "metadata": {},
   "outputs": [],
   "source": [
    "sales_csv_df.show()"
   ]
  },
  {
   "cell_type": "code",
   "execution_count": null,
   "id": "9064ae7e-7d53-4387-990a-0317d86d4caa",
   "metadata": {},
   "outputs": [],
   "source": [
    "sales_schema_new = \"\"\"SalesOrder string, \n",
    "                    OrderDate string, \n",
    "                    CustomerID integer, \n",
    "                    City string, \n",
    "                    Country string, \n",
    "                    ProductID integer, \n",
    "                    Price integer, \n",
    "                    Qty_Sold integer, \n",
    "                    Qty_Sold_Units string, \n",
    "                    Amount integer, \n",
    "                    Amount_Currency string, \n",
    "                    ShipDate string,\n",
    "                    OrderStatus string,\n",
    "                    bad_record string\n",
    "                    \"\"\""
   ]
  },
  {
   "cell_type": "code",
   "execution_count": null,
   "id": "2c56071f-4c27-4cee-b616-051ad815f195",
   "metadata": {},
   "outputs": [],
   "source": [
    "sales_csv_c_df1 = spark.read.format(\"csv\") \\\n",
    "                        .option(\"header\",True) \\\n",
    "                        .schema(sales_schema_new) \\\n",
    "                        .option(\"mode\", \"PERMISSIVE\") \\\n",
    "                        .option(\"columnNameOfCorruptRecord\",\"bad_record\") \\\n",
    "                         .load(\"./Input/1_sales_orders_bad_records.csv\")"
   ]
  },
  {
   "cell_type": "code",
   "execution_count": null,
   "id": "5ca0fddf-f7b5-4603-a768-6ef615ca3d96",
   "metadata": {},
   "outputs": [],
   "source": [
    "sales_csv_c_df1.printSchema()"
   ]
  },
  {
   "cell_type": "code",
   "execution_count": null,
   "id": "0f62790b-ab16-4bf3-a4f3-078131c4f2dc",
   "metadata": {},
   "outputs": [],
   "source": [
    "sales_csv_c_df1.show()"
   ]
  },
  {
   "cell_type": "code",
   "execution_count": null,
   "id": "15b4b94a-4a22-49bd-99c3-645c2bac6f55",
   "metadata": {},
   "outputs": [],
   "source": [
    "sales_schema_new = \"\"\"SalesOrder string, \n",
    "                    OrderDate string, \n",
    "                    CustomerID integer, \n",
    "                    City string, \n",
    "                    Country string, \n",
    "                    ProductID integer, \n",
    "                    Price integer, \n",
    "                    Qty_Sold integer, \n",
    "                    Qty_Sold_Units string, \n",
    "                    Amount integer, \n",
    "                    Amount_Currency string, \n",
    "                    ShipDate string,\n",
    "                    OrderStatus string\n",
    "                    \"\"\""
   ]
  },
  {
   "cell_type": "code",
   "execution_count": null,
   "id": "95e84bbe-356b-46a5-be5b-4636422b3886",
   "metadata": {},
   "outputs": [],
   "source": [
    "sales_csv_c_df1 = spark.read.format(\"csv\") \\\n",
    "                        .option(\"header\",True) \\\n",
    "                        .schema(sales_schema_new) \\\n",
    "                        .option(\"mode\", \"DROPMALFORMED\") \\\n",
    "                         .load(\"./Input/1_sales_orders_bad_records.csv\")"
   ]
  },
  {
   "cell_type": "code",
   "execution_count": null,
   "id": "b7790fa8-ca2d-4d3a-a8aa-23b4b717247e",
   "metadata": {},
   "outputs": [],
   "source": [
    "sales_csv_c_df1.printSchema()"
   ]
  },
  {
   "cell_type": "code",
   "execution_count": null,
   "id": "c5c9940e-efbe-4b46-8b8c-32cb30a6b1c3",
   "metadata": {},
   "outputs": [],
   "source": [
    "sales_csv_c_df1.show()"
   ]
  },
  {
   "cell_type": "code",
   "execution_count": null,
   "id": "27fd5635-148d-48e1-9d2e-ed9a271b95aa",
   "metadata": {},
   "outputs": [],
   "source": []
  },
  {
   "cell_type": "code",
   "execution_count": null,
   "id": "6fa978a2-47f0-420d-9136-fec93a941a64",
   "metadata": {},
   "outputs": [],
   "source": [
    "sales_csv_c_df1 = spark.read.format(\"csv\") \\\n",
    "                        .option(\"header\",True) \\\n",
    "                        .schema(sales_schema_new) \\\n",
    "                        .option(\"mode\", \"FAILFAST\") \\\n",
    "                         .load(\"./Input/1_sales_orders_bad_records.csv\")"
   ]
  },
  {
   "cell_type": "code",
   "execution_count": null,
   "id": "a6d1ad48-d354-4e87-ac9c-661d432d0ece",
   "metadata": {},
   "outputs": [],
   "source": [
    "sales_csv_c_df1.show()"
   ]
  },
  {
   "cell_type": "code",
   "execution_count": null,
   "id": "68344f73-2763-4524-8e57-0fe66675d410",
   "metadata": {},
   "outputs": [],
   "source": [
    "# option dictionary\n",
    "\n",
    "options = {\"header\": \"true\",\n",
    "           \"inferSchema\":\"true\",\n",
    "           \"mode\":\"PERMISSIVE\" }"
   ]
  },
  {
   "cell_type": "code",
   "execution_count": null,
   "id": "0dce2273-d0e3-4c06-afaa-bc3e7263cc19",
   "metadata": {},
   "outputs": [],
   "source": [
    "sales_csv_c_df1 = spark.read.format(\"csv\") \\\n",
    "                        .options(**options) \\\n",
    "                         .load(\"./Input/1_sales_orders_bad_records.csv\")"
   ]
  },
  {
   "cell_type": "code",
   "execution_count": null,
   "id": "706d2c29-56fb-4bce-b90d-3d74f6f006ff",
   "metadata": {},
   "outputs": [],
   "source": [
    "sales_csv_c_df1.show()"
   ]
  },
  {
   "cell_type": "code",
   "execution_count": null,
   "id": "debdb811-fd53-4bf3-91c0-b1ebb4e7e8c5",
   "metadata": {},
   "outputs": [],
   "source": []
  }
 ],
 "metadata": {
  "kernelspec": {
   "display_name": "Python 3 (ipykernel)",
   "language": "python",
   "name": "python3"
  },
  "language_info": {
   "codemirror_mode": {
    "name": "ipython",
    "version": 3
   },
   "file_extension": ".py",
   "mimetype": "text/x-python",
   "name": "python",
   "nbconvert_exporter": "python",
   "pygments_lexer": "ipython3",
   "version": "3.10.12"
  }
 },
 "nbformat": 4,
 "nbformat_minor": 5
}
