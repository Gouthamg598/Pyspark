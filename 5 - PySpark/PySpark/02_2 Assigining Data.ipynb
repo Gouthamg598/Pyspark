{
 "cells": [
  {
   "cell_type": "markdown",
   "id": "d5d7cdae-5127-46f9-b804-258fab3abd64",
   "metadata": {},
   "source": [
    "# What is DataFrame\n",
    "\n",
    "API Documentation: https://spark.apache.org/docs/3.5.0/api/python/reference/pyspark.sql/api/pyspark.sql.DataFrame.html\n",
    "https://spark.apache.org/docs/3.5.0/api/python/reference/pyspark.sql/dataframe.html"
   ]
  },
  {
   "cell_type": "code",
   "execution_count": 1,
   "id": "5ab2c2a9-7758-4d4d-9a86-619e25a7322f",
   "metadata": {
    "tags": []
   },
   "outputs": [],
   "source": [
    "from pyspark.sql import SparkSession\n",
    "\n",
    "spark = SparkSession.builder \\\n",
    "                    .master(\"local[*]\") \\\n",
    "                    .appName(\"Create Dataframe\") \\\n",
    "                    .getOrCreate()"
   ]
  },
  {
   "cell_type": "code",
   "execution_count": 2,
   "id": "abd7bbd9-efb2-4ad4-8ce0-ebeee4dc9264",
   "metadata": {
    "tags": []
   },
   "outputs": [
    {
     "data": {
      "text/html": [
       "\n",
       "            <div>\n",
       "                <p><b>SparkSession - in-memory</b></p>\n",
       "                \n",
       "        <div>\n",
       "            <p><b>SparkContext</b></p>\n",
       "\n",
       "            <p><a href=\"http://d5775686e5e4:4041\">Spark UI</a></p>\n",
       "\n",
       "            <dl>\n",
       "              <dt>Version</dt>\n",
       "                <dd><code>v3.5.3</code></dd>\n",
       "              <dt>Master</dt>\n",
       "                <dd><code>local[*]</code></dd>\n",
       "              <dt>AppName</dt>\n",
       "                <dd><code>Create Dataframe</code></dd>\n",
       "            </dl>\n",
       "        </div>\n",
       "        \n",
       "            </div>\n",
       "        "
      ],
      "text/plain": [
       "<pyspark.sql.session.SparkSession at 0x7f0700a609a0>"
      ]
     },
     "execution_count": 2,
     "metadata": {},
     "output_type": "execute_result"
    }
   ],
   "source": [
    "spark"
   ]
  },
  {
   "cell_type": "code",
   "execution_count": 3,
   "id": "b7b6a22a-c597-4738-a5f5-40042028451b",
   "metadata": {
    "tags": []
   },
   "outputs": [
    {
     "data": {
      "text/plain": [
       "8"
      ]
     },
     "execution_count": 3,
     "metadata": {},
     "output_type": "execute_result"
    }
   ],
   "source": [
    "spark.sparkContext.defaultParallelism"
   ]
  },
  {
   "cell_type": "code",
   "execution_count": 15,
   "id": "5231afeb-922c-4c11-8e33-ecea22828e2c",
   "metadata": {
    "tags": []
   },
   "outputs": [],
   "source": [
    "customer_data = [\n",
    "    [\"C1\",\"Pratap\",\"16-12-1979\",10000],\n",
    "    [\"C2\",\"Sruthi\",\"08-01-1984\",20000],\n",
    "    [\"C3\",\"Kiyanshita\",\"24-08-2011\",30000],\n",
    "    [\"C4\",\"Nirupama\",\"01-11-2022\",40000]\n",
    "]\n",
    "\n",
    "customer_schema = \"CustomerID string, CustomerName String, CustomerDoB String, CustomerSalary Integer\""
   ]
  },
  {
   "cell_type": "code",
   "execution_count": 16,
   "id": "9647546a-790d-4304-83b4-d106965b308c",
   "metadata": {
    "tags": []
   },
   "outputs": [],
   "source": [
    "df = spark.createDataFrame(data=customer_data, schema=customer_schema)"
   ]
  },
  {
   "cell_type": "code",
   "execution_count": 17,
   "id": "d73714ee-dc9a-4a44-bf30-ce6a3e52a9d3",
   "metadata": {
    "tags": []
   },
   "outputs": [
    {
     "name": "stdout",
     "output_type": "stream",
     "text": [
      "root\n",
      " |-- CustomerID: string (nullable = true)\n",
      " |-- CustomerName: string (nullable = true)\n",
      " |-- CustomerDoB: string (nullable = true)\n",
      " |-- CustomerSalary: integer (nullable = true)\n",
      "\n"
     ]
    }
   ],
   "source": [
    "df.printSchema()"
   ]
  },
  {
   "cell_type": "code",
   "execution_count": 18,
   "id": "19f55297-7f4a-4e58-9ce3-95b375059b71",
   "metadata": {
    "tags": []
   },
   "outputs": [
    {
     "name": "stdout",
     "output_type": "stream",
     "text": [
      "+----------+------------+-----------+--------------+\n",
      "|CustomerID|CustomerName|CustomerDoB|CustomerSalary|\n",
      "+----------+------------+-----------+--------------+\n",
      "|        C1|      Pratap| 16-12-1979|         10000|\n",
      "|        C2|      Sruthi| 08-01-1984|         20000|\n",
      "|        C3|  Kiyanshita| 24-08-2011|         30000|\n",
      "|        C4|    Nirupama| 01-11-2022|         40000|\n",
      "+----------+------------+-----------+--------------+\n",
      "\n"
     ]
    }
   ],
   "source": [
    "df.show()"
   ]
  },
  {
   "cell_type": "code",
   "execution_count": 12,
   "id": "4645aa5a-eb0f-4575-8d09-2058af5a3610",
   "metadata": {},
   "outputs": [],
   "source": [
    "customer_data = [\n",
    "    {\"CustomerID\":\"C1\",\"CustomerName\":\"Pratap\",\"CustomerDoB\":\"16-12-1979\",\"CustomerSalary\":10000},\n",
    "    {\"CustomerID\":\"C2\",\"CustomerName\":\"Sruthi\",\"CustomerDoB\":\"08-01-1984\",\"CustomerSalary\":20000},\n",
    "    {\"CustomerID\":\"C3\",\"CustomerName\":\"Kiyanshita\",\"CustomerDoB\":\"24-08-2011\",\"CustomerSalary\":30000},\n",
    "    {\"CustomerID\":\"C4\",\"CustomerName\":\"Nirupama\",\"CustomerDoB\":\"01-11-2022\",\"CustomerSalary\":40000}\n",
    "]\n",
    "\n",
    "customer_schema = \"CustomerID string, CustomerName String, CustomerDoB String, CustomerSalary Integer\""
   ]
  },
  {
   "cell_type": "code",
   "execution_count": 13,
   "id": "38e5cb57-e5c3-42f7-95bd-5c02edb70da4",
   "metadata": {
    "tags": []
   },
   "outputs": [],
   "source": [
    "df = spark.createDataFrame(data=customer_data, schema=customer_schema)"
   ]
  },
  {
   "cell_type": "code",
   "execution_count": 14,
   "id": "dcf2fed5-28b2-4d7d-9665-6be07c3c224c",
   "metadata": {
    "tags": []
   },
   "outputs": [
    {
     "name": "stdout",
     "output_type": "stream",
     "text": [
      "root\n",
      " |-- CustomerID: string (nullable = true)\n",
      " |-- CustomerName: string (nullable = true)\n",
      " |-- CustomerDoB: string (nullable = true)\n",
      " |-- CustomerSalary: integer (nullable = true)\n",
      "\n"
     ]
    }
   ],
   "source": [
    "df.printSchema()"
   ]
  },
  {
   "cell_type": "code",
   "execution_count": 17,
   "id": "3050a634-4b37-4a51-bde3-0133779c67f4",
   "metadata": {},
   "outputs": [
    {
     "data": {
      "text/plain": [
       "[Row(CustomerID='C1', CustomerName='Pratap', CustomerDoB='16-12-1979', CustomerSalary=10000),\n",
       " Row(CustomerID='C2', CustomerName='Sruthi', CustomerDoB='08-01-1984', CustomerSalary=20000),\n",
       " Row(CustomerID='C3', CustomerName='Kiyanshita', CustomerDoB='24-08-2011', CustomerSalary=30000)]"
      ]
     },
     "execution_count": 17,
     "metadata": {},
     "output_type": "execute_result"
    }
   ],
   "source": [
    "df.head(3)"
   ]
  },
  {
   "cell_type": "code",
   "execution_count": 7,
   "id": "cfcbfacd-9ed1-433d-90db-2cec4b5f4a8d",
   "metadata": {
    "tags": []
   },
   "outputs": [
    {
     "name": "stdout",
     "output_type": "stream",
     "text": [
      "+----------+------------+-----------+--------------+\n",
      "|CustomerID|CustomerName|CustomerDoB|CustomerSalary|\n",
      "+----------+------------+-----------+--------------+\n",
      "|        C1|      Pratap| 16-12-1979|         10000|\n",
      "|        C2|      Sruthi| 08-01-1984|         20000|\n",
      "|        C3|  Kiyanshita| 24-08-2011|         30000|\n",
      "|        C4|    Nirupama| 01-11-2022|         40000|\n",
      "+----------+------------+-----------+--------------+\n",
      "\n"
     ]
    }
   ],
   "source": [
    "df.show()"
   ]
  },
  {
   "cell_type": "code",
   "execution_count": 8,
   "id": "03087935-3131-4f04-b20f-d3c91a07a242",
   "metadata": {
    "tags": []
   },
   "outputs": [],
   "source": [
    "from pyspark.sql import Row\n",
    "\n",
    "customer_data = [\n",
    "    Row(CustomerID = \"C1\",CustomerName = \"Pratap\",CustomerDoB = \"16-12-1979\",CustomerSalary = 10000),\n",
    "    Row(CustomerID = \"C2\",CustomerName = \"Sruthi\",CustomerDoB =\"08-01-1984\",CustomerSalary = 20000),\n",
    "    Row(CustomerID = \"C3\",CustomerName = \"Kiyanshita\",CustomerDoB =\"24-08-2011\",CustomerSalary = 30000),\n",
    "    Row(CustomerID = \"C4\",CustomerName = \"Nirupama\",CustomerDoB =\"01-11-2022\",CustomerSalary = 40000)\n",
    "]\n",
    "\n",
    "customer_schema = \"CustomerID string, CustomerName String, CustomerDoB String, CustomerSalary Integer\""
   ]
  },
  {
   "cell_type": "code",
   "execution_count": 9,
   "id": "e4789902-3351-4e43-b220-87bcf952e5f2",
   "metadata": {
    "tags": []
   },
   "outputs": [],
   "source": [
    "df = spark.createDataFrame(data=customer_data, schema=customer_schema)"
   ]
  },
  {
   "cell_type": "code",
   "execution_count": 10,
   "id": "5d353c6c-36e3-46e1-bdcd-f20c6c4ad083",
   "metadata": {
    "tags": []
   },
   "outputs": [
    {
     "name": "stdout",
     "output_type": "stream",
     "text": [
      "root\n",
      " |-- CustomerID: string (nullable = true)\n",
      " |-- CustomerName: string (nullable = true)\n",
      " |-- CustomerDoB: string (nullable = true)\n",
      " |-- CustomerSalary: integer (nullable = true)\n",
      "\n"
     ]
    }
   ],
   "source": [
    "df.printSchema()"
   ]
  },
  {
   "cell_type": "code",
   "execution_count": 11,
   "id": "b6f8428c-0d00-45e0-b384-9cde1fb751e0",
   "metadata": {
    "tags": []
   },
   "outputs": [
    {
     "name": "stdout",
     "output_type": "stream",
     "text": [
      "+----------+------------+-----------+--------------+\n",
      "|CustomerID|CustomerName|CustomerDoB|CustomerSalary|\n",
      "+----------+------------+-----------+--------------+\n",
      "|        C1|      Pratap| 16-12-1979|         10000|\n",
      "|        C2|      Sruthi| 08-01-1984|         20000|\n",
      "|        C3|  Kiyanshita| 24-08-2011|         30000|\n",
      "|        C4|    Nirupama| 01-11-2022|         40000|\n",
      "+----------+------------+-----------+--------------+\n",
      "\n"
     ]
    }
   ],
   "source": [
    "df.show()"
   ]
  },
  {
   "cell_type": "code",
   "execution_count": null,
   "id": "11c8f302-754a-4f5f-b7e9-de1709ccf467",
   "metadata": {},
   "outputs": [],
   "source": []
  }
 ],
 "metadata": {
  "kernelspec": {
   "display_name": "Python 3 (ipykernel)",
   "language": "python",
   "name": "python3"
  },
  "language_info": {
   "codemirror_mode": {
    "name": "ipython",
    "version": 3
   },
   "file_extension": ".py",
   "mimetype": "text/x-python",
   "name": "python",
   "nbconvert_exporter": "python",
   "pygments_lexer": "ipython3",
   "version": "3.10.12"
  }
 },
 "nbformat": 4,
 "nbformat_minor": 5
}
