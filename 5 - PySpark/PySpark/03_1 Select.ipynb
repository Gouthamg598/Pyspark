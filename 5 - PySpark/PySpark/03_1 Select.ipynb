{
 "cells": [
  {
   "cell_type": "markdown",
   "id": "d5d7cdae-5127-46f9-b804-258fab3abd64",
   "metadata": {},
   "source": [
    "## Transformations\n",
    "\n",
    "    1. Select\n",
    "    2. expr, Col\n",
    "    3. SelectExpr"
   ]
  },
  {
   "cell_type": "code",
   "execution_count": 1,
   "id": "5ab2c2a9-7758-4d4d-9a86-619e25a7322f",
   "metadata": {
    "tags": []
   },
   "outputs": [],
   "source": [
    "from pyspark.sql import SparkSession\n",
    "\n",
    "spark = SparkSession.builder \\\n",
    "                    .master(\"local[*]\") \\\n",
    "                    .appName(\"Create Dataframe\") \\\n",
    "                    .getOrCreate()"
   ]
  },
  {
   "cell_type": "code",
   "execution_count": 2,
   "id": "abd7bbd9-efb2-4ad4-8ce0-ebeee4dc9264",
   "metadata": {
    "tags": []
   },
   "outputs": [
    {
     "data": {
      "text/html": [
       "\n",
       "            <div>\n",
       "                <p><b>SparkSession - in-memory</b></p>\n",
       "                \n",
       "        <div>\n",
       "            <p><b>SparkContext</b></p>\n",
       "\n",
       "            <p><a href=\"http://d5775686e5e4:4046\">Spark UI</a></p>\n",
       "\n",
       "            <dl>\n",
       "              <dt>Version</dt>\n",
       "                <dd><code>v3.5.3</code></dd>\n",
       "              <dt>Master</dt>\n",
       "                <dd><code>local[*]</code></dd>\n",
       "              <dt>AppName</dt>\n",
       "                <dd><code>Create Dataframe</code></dd>\n",
       "            </dl>\n",
       "        </div>\n",
       "        \n",
       "            </div>\n",
       "        "
      ],
      "text/plain": [
       "<pyspark.sql.session.SparkSession at 0x7fcca46b8a00>"
      ]
     },
     "execution_count": 2,
     "metadata": {},
     "output_type": "execute_result"
    }
   ],
   "source": [
    "spark"
   ]
  },
  {
   "cell_type": "code",
   "execution_count": null,
   "id": "b7b6a22a-c597-4738-a5f5-40042028451b",
   "metadata": {
    "tags": []
   },
   "outputs": [],
   "source": [
    "spark.sparkContext.defaultParallelism"
   ]
  },
  {
   "cell_type": "code",
   "execution_count": 3,
   "id": "5231afeb-922c-4c11-8e33-ecea22828e2c",
   "metadata": {
    "tags": []
   },
   "outputs": [],
   "source": [
    "sales_data = [\n",
    "['SO101', '08-01-2024', 'Amit Joshi', 'Hyderabad', 'India', 'Keyboard', '3000', '4', 'pieces', '12000', 'INR', '18-01-2024'],\n",
    "['SO102', '19-01-2024', 'Divya Reddy', 'Mumbai', 'India', 'Printer', '1500', '5', 'pieces', '7500', 'INR', '29-01-2024'],\n",
    "['SO103', '01-01-2024', 'Rohan Patel', 'Pune', 'India', 'Laptop', '1500', '10', 'pieces', '15000', 'INR', '11-01-2024'],\n",
    "['SO104', '30-03-2024', 'Divya Reddy', 'Pune', 'India', 'External Hard Drive', '10000', '8', 'pieces', '80000', 'INR', '09-04-2024'],\n",
    "['SO105', '14-03-2024', 'Nikhil Desai', 'Ahmedabad', 'India', 'Wireless Mouse', '8000', '10', 'pieces', '80000', 'INR', '19-03-2024'],\n",
    "['SO106', '20-03-2024', 'Pooja Mehta', 'Hyderabad', 'India', 'Monitor', '8000', '10', 'pieces', '80000', 'INR', '25-03-2024'],\n",
    "['SO107', '10-03-2024', 'Amit Joshi', 'Mumbai', 'India', 'Webcam', '10000', '2', 'pieces', '20000', 'INR', '15-03-2024'],\n",
    "['SO108', '03-04-2024', 'Nikhil Desai', 'Pune', 'India', 'Wireless Mouse', '8000', '1', 'pieces', '8000', 'INR', '08-04-2024'],\n",
    "['SO109', '03-05-2024', 'Amit Joshi', 'Ahmedabad', 'India', 'Monitor', '70000', '5', 'pieces', '350000', 'INR', '18-05-2024'],\n",
    "['SO1010', '01-05-2024', 'Nikhil Desai', 'Ahmedabad', 'India', 'Monitor', '2000', '7', 'pieces', '14000', 'INR', '16-05-2024'],\n",
    "['SO1011', '19-06-2024', 'Amit Joshi', 'Chennai', 'India', 'Printer', '2000', '1', 'pieces', '2000', 'INR', '04-07-2024'],\n",
    "['SO1012', '08-07-2024', 'Rohan Patel', 'Mumbai', 'India', 'Keyboard', '3000', '5', 'pieces', '15000', 'INR', '23-07-2024'],\n",
    "['SO1013', '14-08-2024', 'Nikhil Desai', 'Mumbai', 'India', 'Keyboard', '10000', '10', 'pieces', '100000', 'INR', '29-08-2024'],\n",
    "['SO1014', '02-09-2024', 'Pooja Mehta', 'Ahmedabad', 'India', 'Laptop', '10000', '10', 'pieces', '100000', 'INR', '17-09-2024'],\n",
    "['SO1015', '23-09-2024', 'Amit Joshi', 'Chennai', 'India', 'Laptop', '8000', '6', 'pieces', '48000', 'INR', '08-10-2024'],\n",
    "['SO1016', '20-01-2023', 'Nikhil Desai', 'Ahmedabad', 'India', 'Webcam', '8000', '4', 'pieces', '32000', 'INR', '09-02-2023'],\n",
    "['SO1017', '01-01-2023', 'Nikhil Desai', 'Mumbai', 'India', 'Keyboard', '8000', '6', 'pieces', '48000', 'INR', '21-01-2023'],\n",
    "['SO1018', '26-01-2023', 'Nikhil Desai', 'Pune', 'India', 'Laptop', '10000', '5', 'pieces', '50000', 'INR', '15-02-2023'],\n",
    "['SO1019', '18-02-2023', 'Rohan Patel', 'Mumbai', 'India', 'Keyboard', '2000', '5', 'pieces', '10000', 'INR', '10-03-2023'],\n",
    "['SO1020', '24-03-2023', 'Amit Joshi', 'Pune', 'India', 'External Hard Drive', '5000', '5', 'pieces', '25000', 'INR', '13-04-2023'],\n",
    "['SO1021', '16-03-2023', 'Amit Joshi', 'Mumbai', 'India', 'Webcam', '10000', '7', 'pieces', '70000', 'INR', '10-04-2023'],\n",
    "['SO1022', '30-04-2023', 'Amit Joshi', 'Pune', 'India', 'Laptop', '70000', '5', 'pieces', '350000', 'INR', '25-05-2023'],\n",
    "['SO1023', '13-04-2023', 'Nikhil Desai', 'Mumbai', 'India', 'Wireless Mouse', '3000', '3', 'pieces', '9000', 'INR', '08-05-2023'],\n",
    "['SO1024', '08-07-2023', 'Pooja Mehta', 'Ahmedabad', 'India', 'Wireless Mouse', '5000', '2', 'pieces', '10000', 'INR', '02-08-2023'],\n",
    "['SO1025', '25-07-2023', 'Rohan Patel', 'Chennai', 'India', 'External Hard Drive', '5000', '7', 'pieces', '35000', 'INR', '19-08-2023'],\n",
    "['SO1026', '14-07-2023', 'Divya Reddy', 'Ahmedabad', 'India', 'Keyboard', '1500', '8', 'pieces', '12000', 'INR', '08-08-2023'],\n",
    "['SO1027', '24-07-2023', 'Rohan Patel', 'Hyderabad', 'India', 'Laptop', '3000', '9', 'pieces', '27000', 'INR', '18-08-2023'],\n",
    "['SO1028', '25-07-2023', 'Rohan Patel', 'Chennai', 'India', 'Monitor', '5000', '8', 'pieces', '40000', 'INR', '19-08-2023'],\n",
    "['SO1029', '17-09-2023', 'Divya Reddy', 'Chennai', 'India', 'Wireless Mouse', '1500', '8', 'pieces', '12000', 'INR', '12-10-2023'],\n",
    "['SO1030', '08-09-2023', 'Nikhil Desai', 'Chennai', 'India', 'Webcam', '8000', '9', 'pieces', '72000', 'INR', '03-10-2023']\n",
    "]\n",
    "\n",
    "sales_schema = \"\"\"SalesOrder string, \n",
    "                    OrderDate string, \n",
    "                    CustomerName string, \n",
    "                    City string, \n",
    "                    Country string, \n",
    "                    Product string, \n",
    "                    Price string, \n",
    "                    Qty_Sold string, \n",
    "                    Qty_Sold_Units string, \n",
    "                    Amount string, \n",
    "                    Amount_Currency string, \n",
    "                    ShipDate string\"\"\"\n"
   ]
  },
  {
   "cell_type": "code",
   "execution_count": 4,
   "id": "9647546a-790d-4304-83b4-d106965b308c",
   "metadata": {
    "tags": []
   },
   "outputs": [],
   "source": [
    "sales_df = spark.createDataFrame(data=sales_data, schema=sales_schema)"
   ]
  },
  {
   "cell_type": "code",
   "execution_count": 5,
   "id": "d73714ee-dc9a-4a44-bf30-ce6a3e52a9d3",
   "metadata": {
    "tags": []
   },
   "outputs": [
    {
     "name": "stdout",
     "output_type": "stream",
     "text": [
      "root\n",
      " |-- SalesOrder: string (nullable = true)\n",
      " |-- OrderDate: string (nullable = true)\n",
      " |-- CustomerName: string (nullable = true)\n",
      " |-- City: string (nullable = true)\n",
      " |-- Country: string (nullable = true)\n",
      " |-- Product: string (nullable = true)\n",
      " |-- Price: string (nullable = true)\n",
      " |-- Qty_Sold: string (nullable = true)\n",
      " |-- Qty_Sold_Units: string (nullable = true)\n",
      " |-- Amount: string (nullable = true)\n",
      " |-- Amount_Currency: string (nullable = true)\n",
      " |-- ShipDate: string (nullable = true)\n",
      "\n"
     ]
    }
   ],
   "source": [
    "sales_df.printSchema()"
   ]
  },
  {
   "cell_type": "code",
   "execution_count": 6,
   "id": "19f55297-7f4a-4e58-9ce3-95b375059b71",
   "metadata": {
    "tags": []
   },
   "outputs": [
    {
     "name": "stdout",
     "output_type": "stream",
     "text": [
      "+----------+----------+------------+---------+-------+-------------------+-----+--------+--------------+------+---------------+----------+\n",
      "|SalesOrder| OrderDate|CustomerName|     City|Country|            Product|Price|Qty_Sold|Qty_Sold_Units|Amount|Amount_Currency|  ShipDate|\n",
      "+----------+----------+------------+---------+-------+-------------------+-----+--------+--------------+------+---------------+----------+\n",
      "|     SO101|08-01-2024|  Amit Joshi|Hyderabad|  India|           Keyboard| 3000|       4|        pieces| 12000|            INR|18-01-2024|\n",
      "|     SO102|19-01-2024| Divya Reddy|   Mumbai|  India|            Printer| 1500|       5|        pieces|  7500|            INR|29-01-2024|\n",
      "|     SO103|01-01-2024| Rohan Patel|     Pune|  India|             Laptop| 1500|      10|        pieces| 15000|            INR|11-01-2024|\n",
      "|     SO104|30-03-2024| Divya Reddy|     Pune|  India|External Hard Drive|10000|       8|        pieces| 80000|            INR|09-04-2024|\n",
      "|     SO105|14-03-2024|Nikhil Desai|Ahmedabad|  India|     Wireless Mouse| 8000|      10|        pieces| 80000|            INR|19-03-2024|\n",
      "|     SO106|20-03-2024| Pooja Mehta|Hyderabad|  India|            Monitor| 8000|      10|        pieces| 80000|            INR|25-03-2024|\n",
      "|     SO107|10-03-2024|  Amit Joshi|   Mumbai|  India|             Webcam|10000|       2|        pieces| 20000|            INR|15-03-2024|\n",
      "|     SO108|03-04-2024|Nikhil Desai|     Pune|  India|     Wireless Mouse| 8000|       1|        pieces|  8000|            INR|08-04-2024|\n",
      "|     SO109|03-05-2024|  Amit Joshi|Ahmedabad|  India|            Monitor|70000|       5|        pieces|350000|            INR|18-05-2024|\n",
      "|    SO1010|01-05-2024|Nikhil Desai|Ahmedabad|  India|            Monitor| 2000|       7|        pieces| 14000|            INR|16-05-2024|\n",
      "|    SO1011|19-06-2024|  Amit Joshi|  Chennai|  India|            Printer| 2000|       1|        pieces|  2000|            INR|04-07-2024|\n",
      "|    SO1012|08-07-2024| Rohan Patel|   Mumbai|  India|           Keyboard| 3000|       5|        pieces| 15000|            INR|23-07-2024|\n",
      "|    SO1013|14-08-2024|Nikhil Desai|   Mumbai|  India|           Keyboard|10000|      10|        pieces|100000|            INR|29-08-2024|\n",
      "|    SO1014|02-09-2024| Pooja Mehta|Ahmedabad|  India|             Laptop|10000|      10|        pieces|100000|            INR|17-09-2024|\n",
      "|    SO1015|23-09-2024|  Amit Joshi|  Chennai|  India|             Laptop| 8000|       6|        pieces| 48000|            INR|08-10-2024|\n",
      "|    SO1016|20-01-2023|Nikhil Desai|Ahmedabad|  India|             Webcam| 8000|       4|        pieces| 32000|            INR|09-02-2023|\n",
      "|    SO1017|01-01-2023|Nikhil Desai|   Mumbai|  India|           Keyboard| 8000|       6|        pieces| 48000|            INR|21-01-2023|\n",
      "|    SO1018|26-01-2023|Nikhil Desai|     Pune|  India|             Laptop|10000|       5|        pieces| 50000|            INR|15-02-2023|\n",
      "|    SO1019|18-02-2023| Rohan Patel|   Mumbai|  India|           Keyboard| 2000|       5|        pieces| 10000|            INR|10-03-2023|\n",
      "|    SO1020|24-03-2023|  Amit Joshi|     Pune|  India|External Hard Drive| 5000|       5|        pieces| 25000|            INR|13-04-2023|\n",
      "+----------+----------+------------+---------+-------+-------------------+-----+--------+--------------+------+---------------+----------+\n",
      "only showing top 20 rows\n",
      "\n"
     ]
    }
   ],
   "source": [
    "sales_df.show()"
   ]
  },
  {
   "cell_type": "code",
   "execution_count": 7,
   "id": "58838af6-5aae-45f6-880d-19820c8adc4c",
   "metadata": {
    "tags": []
   },
   "outputs": [],
   "source": [
    "## Select City,CustomerName, Amount, Amount_Currency, OrderDate from sales_df\n",
    "\n",
    "from pyspark.sql.functions import expr, col\n",
    "\n",
    "sales_selected_df = sales_df.select(\"City\", col(\"CustomerName\"), expr(\"Amount\"), sales_df.Amount_Currency, sales_df[\"OrderDate\"]) "
   ]
  },
  {
   "cell_type": "code",
   "execution_count": 9,
   "id": "7ee09373-ca83-4d6e-bf0e-3b895162709e",
   "metadata": {
    "tags": []
   },
   "outputs": [
    {
     "name": "stdout",
     "output_type": "stream",
     "text": [
      "+---------+------------+------+---------------+----------+\n",
      "|     City|CustomerName|Amount|Amount_Currency| OrderDate|\n",
      "+---------+------------+------+---------------+----------+\n",
      "|Hyderabad|  Amit Joshi| 12000|            INR|08-01-2024|\n",
      "|   Mumbai| Divya Reddy|  7500|            INR|19-01-2024|\n",
      "|     Pune| Rohan Patel| 15000|            INR|01-01-2024|\n",
      "|     Pune| Divya Reddy| 80000|            INR|30-03-2024|\n",
      "|Ahmedabad|Nikhil Desai| 80000|            INR|14-03-2024|\n",
      "|Hyderabad| Pooja Mehta| 80000|            INR|20-03-2024|\n",
      "|   Mumbai|  Amit Joshi| 20000|            INR|10-03-2024|\n",
      "|     Pune|Nikhil Desai|  8000|            INR|03-04-2024|\n",
      "|Ahmedabad|  Amit Joshi|350000|            INR|03-05-2024|\n",
      "|Ahmedabad|Nikhil Desai| 14000|            INR|01-05-2024|\n",
      "|  Chennai|  Amit Joshi|  2000|            INR|19-06-2024|\n",
      "|   Mumbai| Rohan Patel| 15000|            INR|08-07-2024|\n",
      "|   Mumbai|Nikhil Desai|100000|            INR|14-08-2024|\n",
      "|Ahmedabad| Pooja Mehta|100000|            INR|02-09-2024|\n",
      "|  Chennai|  Amit Joshi| 48000|            INR|23-09-2024|\n",
      "|Ahmedabad|Nikhil Desai| 32000|            INR|20-01-2023|\n",
      "|   Mumbai|Nikhil Desai| 48000|            INR|01-01-2023|\n",
      "|     Pune|Nikhil Desai| 50000|            INR|26-01-2023|\n",
      "|   Mumbai| Rohan Patel| 10000|            INR|18-02-2023|\n",
      "|     Pune|  Amit Joshi| 25000|            INR|24-03-2023|\n",
      "+---------+------------+------+---------------+----------+\n",
      "only showing top 20 rows\n",
      "\n"
     ]
    }
   ],
   "source": [
    "sales_selected_df.show()"
   ]
  },
  {
   "cell_type": "code",
   "execution_count": 10,
   "id": "3386de61-8fdd-422e-8e02-0e973a6b8e74",
   "metadata": {
    "tags": []
   },
   "outputs": [],
   "source": [
    "## Select left(City,3) as city,\n",
    "          # CustomerName as Customer, \n",
    "          #  Amount - 1000 as AmountAfterTax, \n",
    "          #   cast(Price as integer) Price, \n",
    "          #   to_date(OrderDate, 'dd-MM-yyyy') as OrderDate, \n",
    "          #   Amount_Currency \n",
    "          #   from sales_df\n",
    "\n",
    "from pyspark.sql.functions import expr, col, to_date\n",
    "\n",
    "from pyspark.sql.types import DateType\n",
    "sales_selected_cal_df = sales_df.select(expr(\"left(City,3) as city\"), expr(\"CustomerName as Customer\"), expr(\"Amount - 1000 as AmountAfterTax\"), expr(\"cast(Price as integer) Price\"), expr(\"to_date(OrderDate, 'dd-MM-yyyy') as date\")) "
   ]
  },
  {
   "cell_type": "code",
   "execution_count": 11,
   "id": "a8db1bed-6a56-49e5-a058-84dd1dbced0b",
   "metadata": {
    "tags": []
   },
   "outputs": [
    {
     "name": "stdout",
     "output_type": "stream",
     "text": [
      "+----+------------+--------------+-----+----------+\n",
      "|city|    Customer|AmountAfterTax|Price|      date|\n",
      "+----+------------+--------------+-----+----------+\n",
      "| Hyd|  Amit Joshi|       11000.0| 3000|2024-01-08|\n",
      "| Mum| Divya Reddy|        6500.0| 1500|2024-01-19|\n",
      "| Pun| Rohan Patel|       14000.0| 1500|2024-01-01|\n",
      "| Pun| Divya Reddy|       79000.0|10000|2024-03-30|\n",
      "| Ahm|Nikhil Desai|       79000.0| 8000|2024-03-14|\n",
      "| Hyd| Pooja Mehta|       79000.0| 8000|2024-03-20|\n",
      "| Mum|  Amit Joshi|       19000.0|10000|2024-03-10|\n",
      "| Pun|Nikhil Desai|        7000.0| 8000|2024-04-03|\n",
      "| Ahm|  Amit Joshi|      349000.0|70000|2024-05-03|\n",
      "| Ahm|Nikhil Desai|       13000.0| 2000|2024-05-01|\n",
      "| Che|  Amit Joshi|        1000.0| 2000|2024-06-19|\n",
      "| Mum| Rohan Patel|       14000.0| 3000|2024-07-08|\n",
      "| Mum|Nikhil Desai|       99000.0|10000|2024-08-14|\n",
      "| Ahm| Pooja Mehta|       99000.0|10000|2024-09-02|\n",
      "| Che|  Amit Joshi|       47000.0| 8000|2024-09-23|\n",
      "| Ahm|Nikhil Desai|       31000.0| 8000|2023-01-20|\n",
      "| Mum|Nikhil Desai|       47000.0| 8000|2023-01-01|\n",
      "| Pun|Nikhil Desai|       49000.0|10000|2023-01-26|\n",
      "| Mum| Rohan Patel|        9000.0| 2000|2023-02-18|\n",
      "| Pun|  Amit Joshi|       24000.0| 5000|2023-03-24|\n",
      "+----+------------+--------------+-----+----------+\n",
      "only showing top 20 rows\n",
      "\n"
     ]
    }
   ],
   "source": [
    "sales_selected_cal_df.show()"
   ]
  },
  {
   "cell_type": "code",
   "execution_count": 12,
   "id": "5daf116b-3f84-4da3-8135-dddbe5210440",
   "metadata": {
    "tags": []
   },
   "outputs": [],
   "source": [
    "## Select left(City,3) as city,\n",
    "          # CustomerName as Customer, \n",
    "          #  Amount - 1000 as AmountAfterTax, \n",
    "          #   cast(Price as integer) Price, \n",
    "          #   to_date(OrderDate, 'dd-MM-yyyy') as OrderDate, \n",
    "          #   Amount_Currency \n",
    "          #   from sales_df\n",
    "\n",
    "sales_selected_cal_df = sales_df.selectExpr(\"left(City,3) as city\",\"CustomerName as Customer\", \"Amount - 1000 as AmountAfterTax\",\"cast(Price as integer) Price\", \"to_date(OrderDate, 'dd-MM-yyyy') as OrderDate\" ,\"Amount_Currency\" ) "
   ]
  },
  {
   "cell_type": "code",
   "execution_count": 13,
   "id": "44cba8d8-f566-4406-ac67-4f7a71dacf4b",
   "metadata": {
    "tags": []
   },
   "outputs": [
    {
     "name": "stdout",
     "output_type": "stream",
     "text": [
      "+----+------------+--------------+-----+----------+---------------+\n",
      "|city|    Customer|AmountAfterTax|Price| OrderDate|Amount_Currency|\n",
      "+----+------------+--------------+-----+----------+---------------+\n",
      "| Hyd|  Amit Joshi|       11000.0| 3000|2024-01-08|            INR|\n",
      "| Mum| Divya Reddy|        6500.0| 1500|2024-01-19|            INR|\n",
      "| Pun| Rohan Patel|       14000.0| 1500|2024-01-01|            INR|\n",
      "| Pun| Divya Reddy|       79000.0|10000|2024-03-30|            INR|\n",
      "| Ahm|Nikhil Desai|       79000.0| 8000|2024-03-14|            INR|\n",
      "| Hyd| Pooja Mehta|       79000.0| 8000|2024-03-20|            INR|\n",
      "| Mum|  Amit Joshi|       19000.0|10000|2024-03-10|            INR|\n",
      "| Pun|Nikhil Desai|        7000.0| 8000|2024-04-03|            INR|\n",
      "| Ahm|  Amit Joshi|      349000.0|70000|2024-05-03|            INR|\n",
      "| Ahm|Nikhil Desai|       13000.0| 2000|2024-05-01|            INR|\n",
      "| Che|  Amit Joshi|        1000.0| 2000|2024-06-19|            INR|\n",
      "| Mum| Rohan Patel|       14000.0| 3000|2024-07-08|            INR|\n",
      "| Mum|Nikhil Desai|       99000.0|10000|2024-08-14|            INR|\n",
      "| Ahm| Pooja Mehta|       99000.0|10000|2024-09-02|            INR|\n",
      "| Che|  Amit Joshi|       47000.0| 8000|2024-09-23|            INR|\n",
      "| Ahm|Nikhil Desai|       31000.0| 8000|2023-01-20|            INR|\n",
      "| Mum|Nikhil Desai|       47000.0| 8000|2023-01-01|            INR|\n",
      "| Pun|Nikhil Desai|       49000.0|10000|2023-01-26|            INR|\n",
      "| Mum| Rohan Patel|        9000.0| 2000|2023-02-18|            INR|\n",
      "| Pun|  Amit Joshi|       24000.0| 5000|2023-03-24|            INR|\n",
      "+----+------------+--------------+-----+----------+---------------+\n",
      "only showing top 20 rows\n",
      "\n"
     ]
    }
   ],
   "source": [
    "sales_selected_cal_df.show()"
   ]
  },
  {
   "cell_type": "code",
   "execution_count": null,
   "id": "aec0089d-e2e4-4a7b-9bbb-03b1075d16c5",
   "metadata": {},
   "outputs": [],
   "source": []
  }
 ],
 "metadata": {
  "kernelspec": {
   "display_name": "Python 3 (ipykernel)",
   "language": "python",
   "name": "python3"
  },
  "language_info": {
   "codemirror_mode": {
    "name": "ipython",
    "version": 3
   },
   "file_extension": ".py",
   "mimetype": "text/x-python",
   "name": "python",
   "nbconvert_exporter": "python",
   "pygments_lexer": "ipython3",
   "version": "3.10.12"
  }
 },
 "nbformat": 4,
 "nbformat_minor": 5
}
