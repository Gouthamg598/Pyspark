{
 "cells": [
  {
   "cell_type": "markdown",
   "id": "d5d7cdae-5127-46f9-b804-258fab3abd64",
   "metadata": {},
   "source": [
    "## Transformations\n",
    "\n",
    "    1. Select\n",
    "    2. expr, Col\n",
    "    3. SelectExpr"
   ]
  },
  {
   "cell_type": "code",
   "execution_count": null,
   "id": "5ab2c2a9-7758-4d4d-9a86-619e25a7322f",
   "metadata": {
    "tags": []
   },
   "outputs": [],
   "source": [
    "from pyspark.sql import SparkSession\n",
    "\n",
    "spark = SparkSession.builder \\\n",
    "                    .master(\"local[*]\") \\\n",
    "                    .appName(\"Create Dataframe\") \\\n",
    "                    .getOrCreate()"
   ]
  },
  {
   "cell_type": "code",
   "execution_count": null,
   "id": "abd7bbd9-efb2-4ad4-8ce0-ebeee4dc9264",
   "metadata": {
    "tags": []
   },
   "outputs": [],
   "source": [
    "spark.stop()"
   ]
  },
  {
   "cell_type": "code",
   "execution_count": null,
   "id": "b7b6a22a-c597-4738-a5f5-40042028451b",
   "metadata": {
    "tags": []
   },
   "outputs": [],
   "source": [
    "spark.sparkContext.defaultParallelism"
   ]
  },
  {
   "cell_type": "code",
   "execution_count": null,
   "id": "5231afeb-922c-4c11-8e33-ecea22828e2c",
   "metadata": {
    "tags": []
   },
   "outputs": [],
   "source": [
    "sales_data = [\n",
    "    {\"SalesOrder\": \"SO101\", \"OrderDate\": \"08-01-2024\", \"CustomerID\": 1, \"City\": \"Hyderabad\", \"Country\": \"India\", \"ProductID\": 1, \"Price\": 3000, \"Qty_Sold\": 4, \"Qty_Sold_Units\": \"pieces\", \"Amount\": 12000, \"Amount_Currency\": \"INR\", \"ShipDate\": \"18-01-2024\", \"OrderStatus\": \"Open\"},\n",
    "    {\"SalesOrder\": \"SO102\", \"OrderDate\": \"19-01-2024\", \"CustomerID\": 2, \"City\": \"Mumbai\", \"Country\": \"India\", \"ProductID\": 2, \"Price\": 1500, \"Qty_Sold\": 5, \"Qty_Sold_Units\": \"pieces\", \"Amount\": 7500, \"Amount_Currency\": \"INR\", \"ShipDate\": \"29-01-2024\", \"OrderStatus\": \"Open\"},\n",
    "    {\"SalesOrder\": \"SO103\", \"OrderDate\": \"01-01-2024\", \"CustomerID\": 3, \"City\": \"Pune\", \"Country\": \"India\", \"ProductID\": 3, \"Price\": 1500, \"Qty_Sold\": 10, \"Qty_Sold_Units\": \"pieces\", \"Amount\": 15000, \"Amount_Currency\": \"INR\", \"ShipDate\": \"11-01-2024\", \"OrderStatus\": \"Closed\"},\n",
    "    {\"SalesOrder\": \"SO104\", \"OrderDate\": \"30-03-2024\", \"CustomerID\": 2, \"City\": \"Pune\", \"Country\": \"India\", \"ProductID\": 4, \"Price\": 10000, \"Qty_Sold\": 8, \"Qty_Sold_Units\": \"pieces\", \"Amount\": 80000, \"Amount_Currency\": \"INR\", \"ShipDate\": \"09-04-2024\", \"OrderStatus\": \"Closed\"},\n",
    "    {\"SalesOrder\": \"SO105\", \"OrderDate\": \"14-03-2024\", \"CustomerID\": 4, \"City\": \"Ahmedabad\", \"Country\": \"India\", \"ProductID\": 5, \"Price\": 8000, \"Qty_Sold\": 10, \"Qty_Sold_Units\": \"pieces\", \"Amount\": 80000, \"Amount_Currency\": \"INR\", \"ShipDate\": \"19-03-2024\", \"OrderStatus\": \"Open\"},\n",
    "    {\"SalesOrder\": \"SO106\", \"OrderDate\": \"20-03-2024\", \"CustomerID\": 5, \"City\": \"Hyderabad\", \"Country\": \"India\", \"ProductID\": 6, \"Price\": 8000, \"Qty_Sold\": 10, \"Qty_Sold_Units\": \"pieces\", \"Amount\": 80000, \"Amount_Currency\": \"INR\", \"ShipDate\": \"25-03-2024\", \"OrderStatus\": \"Hold\"},\n",
    "    {\"SalesOrder\": \"SO107\", \"OrderDate\": \"10-03-2024\", \"CustomerID\": 1, \"City\": \"Mumbai\", \"Country\": \"India\", \"ProductID\": 7, \"Price\": 10000, \"Qty_Sold\": 2, \"Qty_Sold_Units\": \"pieces\", \"Amount\": 20000, \"Amount_Currency\": \"INR\", \"ShipDate\": \"15-03-2024\", \"OrderStatus\": \"Hold\"},\n",
    "    {\"SalesOrder\": \"SO108\", \"OrderDate\": \"03-04-2024\", \"CustomerID\": 4, \"City\": \"Pune\", \"Country\": \"India\", \"ProductID\": 5, \"Price\": 8000, \"Qty_Sold\": 1, \"Qty_Sold_Units\": \"pieces\", \"Amount\": 8000, \"Amount_Currency\": \"INR\", \"ShipDate\": \"08-04-2024\", \"OrderStatus\": \"Open\"},\n",
    "    {\"SalesOrder\": \"SO109\", \"OrderDate\": \"03-05-2024\", \"CustomerID\": 1, \"City\": \"Ahmedabad\", \"Country\": \"India\", \"ProductID\": 6, \"Price\": 70000, \"Qty_Sold\": 5, \"Qty_Sold_Units\": \"pieces\", \"Amount\": 350000, \"Amount_Currency\": \"INR\", \"ShipDate\": \"18-05-2024\", \"OrderStatus\": \"Open\"},\n",
    "    {\"SalesOrder\": \"SO1010\", \"OrderDate\": \"01-05-2024\", \"CustomerID\": 4, \"City\": \"Ahmedabad\", \"Country\": \"India\", \"ProductID\": 6, \"Price\": 2000, \"Qty_Sold\": 7, \"Qty_Sold_Units\": \"pieces\", \"Amount\": 14000, \"Amount_Currency\": \"INR\", \"ShipDate\": \"16-05-2024\", \"OrderStatus\": \"Closed\"},\n",
    "    {\"SalesOrder\": \"SO1011\", \"OrderDate\": \"19-06-2024\", \"CustomerID\": 1, \"City\": \"Chennai\", \"Country\": \"India\", \"ProductID\": 2, \"Price\": 2000, \"Qty_Sold\": 1, \"Qty_Sold_Units\": \"pieces\", \"Amount\": 2000, \"Amount_Currency\": \"INR\", \"ShipDate\": \"04-07-2024\", \"OrderStatus\": \"Closed\"},\n",
    "    {\"SalesOrder\": \"SO1012\", \"OrderDate\": \"08-07-2024\", \"CustomerID\": 3, \"City\": \"Mumbai\", \"Country\": \"India\", \"ProductID\": 1, \"Price\": 3000, \"Qty_Sold\": 5, \"Qty_Sold_Units\": \"pieces\", \"Amount\": 15000, \"Amount_Currency\": \"INR\", \"ShipDate\": \"23-07-2024\", \"OrderStatus\": \"Open\"},\n",
    "    {\"SalesOrder\": \"SO1013\", \"OrderDate\": \"14-08-2024\", \"CustomerID\": 4, \"City\": \"Mumbai\", \"Country\": \"India\", \"ProductID\": 1, \"Price\": 10000, \"Qty_Sold\": 10, \"Qty_Sold_Units\": \"pieces\", \"Amount\": 100000, \"Amount_Currency\": \"INR\", \"ShipDate\": \"29-08-2024\", \"OrderStatus\": \"Open\"},\n",
    "    {\"SalesOrder\": \"SO1014\", \"OrderDate\": \"02-09-2024\", \"CustomerID\": 5, \"City\": \"Ahmedabad\", \"Country\": \"India\", \"ProductID\": 3, \"Price\": 10000, \"Qty_Sold\": 10, \"Qty_Sold_Units\": \"pieces\", \"Amount\": 100000, \"Amount_Currency\": \"INR\", \"ShipDate\": \"17-09-2024\", \"OrderStatus\": \"Open\"},\n",
    "    {\"SalesOrder\": \"SO1015\", \"OrderDate\": \"23-09-2024\", \"CustomerID\": 1, \"City\": \"Chennai\", \"Country\": \"India\", \"ProductID\": 3, \"Price\": 8000, \"Qty_Sold\": 6, \"Qty_Sold_Units\": \"pieces\", \"Amount\": 48000, \"Amount_Currency\": \"INR\", \"ShipDate\": \"08-10-2024\", \"OrderStatus\": \"Open\"},\n",
    "    {\"SalesOrder\": \"SO1016\", \"OrderDate\": \"20-01-2023\", \"CustomerID\": 4, \"City\": \"Ahmedabad\", \"Country\": \"India\", \"ProductID\": 7, \"Price\": 8000, \"Qty_Sold\": 4, \"Qty_Sold_Units\": \"pieces\", \"Amount\": 32000, \"Amount_Currency\": \"INR\", \"ShipDate\": \"09-02-2023\", \"OrderStatus\": \"Open\"},\n",
    "    {\"SalesOrder\": \"SO1017\", \"OrderDate\": \"01-01-2023\", \"CustomerID\": 4, \"City\": \"Mumbai\", \"Country\": \"India\", \"ProductID\": 1, \"Price\": 8000, \"Qty_Sold\": 6, \"Qty_Sold_Units\": \"pieces\", \"Amount\": 48000, \"Amount_Currency\": \"INR\", \"ShipDate\": \"21-01-2023\", \"OrderStatus\": \"Closed\"},\n",
    "    {\"SalesOrder\": \"SO1018\", \"OrderDate\": \"26-01-2023\", \"CustomerID\": 4, \"City\": \"Pune\", \"Country\": \"India\", \"ProductID\": 3, \"Price\": 10000, \"Qty_Sold\": 5, \"Qty_Sold_Units\": \"pieces\", \"Amount\": 50000, \"Amount_Currency\": \"INR\", \"ShipDate\": \"15-02-2023\", \"OrderStatus\": \"Closed\"},\n",
    "    {\"SalesOrder\": \"SO1019\", \"OrderDate\": \"18-02-2023\", \"CustomerID\": 3, \"City\": \"Mumbai\", \"Country\": \"India\", \"ProductID\": 1, \"Price\": 2000, \"Qty_Sold\": 5, \"Qty_Sold_Units\": \"pieces\", \"Amount\": 10000, \"Amount_Currency\": \"INR\", \"ShipDate\": \"10-03-2023\", \"OrderStatus\": \"Closed\"},\n",
    "    {\"SalesOrder\": \"SO1020\", \"OrderDate\": \"24-03-2023\", \"CustomerID\": 1, \"City\": \"Pune\", \"Country\": \"India\", \"ProductID\": 4, \"Price\": 5000, \"Qty_Sold\": 5, \"Qty_Sold_Units\": \"pieces\", \"Amount\": 25000, \"Amount_Currency\": \"INR\", \"ShipDate\": \"13-04-2023\", \"OrderStatus\": \"Closed\"},\n",
    "    {\"SalesOrder\": \"SO1021\", \"OrderDate\": \"16-03-2023\", \"CustomerID\": 1, \"City\": \"Mumbai\", \"Country\": \"India\", \"ProductID\": 7, \"Price\": 10000, \"Qty_Sold\": 7, \"Qty_Sold_Units\": \"pieces\", \"Amount\": 70000, \"Amount_Currency\": \"INR\", \"ShipDate\": \"10-04-2023\", \"OrderStatus\": \"Closed\"},\n",
    "    {\"SalesOrder\": \"SO1022\", \"OrderDate\": \"30-04-2023\", \"CustomerID\": 1, \"City\": \"Pune\", \"Country\": \"India\", \"ProductID\": 3, \"Price\": 70000, \"Qty_Sold\": 5, \"Qty_Sold_Units\": \"pieces\", \"Amount\": 350000, \"Amount_Currency\": \"INR\", \"ShipDate\": \"25-05-2023\", \"OrderStatus\": \"Closed\"},\n",
    "    {\"SalesOrder\": \"SO1023\", \"OrderDate\": \"13-04-2023\", \"CustomerID\": 4, \"City\": \"Mumbai\", \"Country\": \"India\", \"ProductID\": 5, \"Price\": 3000, \"Qty_Sold\": 3, \"Qty_Sold_Units\": \"pieces\", \"Amount\": 9000, \"Amount_Currency\": \"INR\", \"ShipDate\": \"08-05-2023\", \"OrderStatus\": \"Closed\"},\n",
    "    {\"SalesOrder\": \"SO1024\", \"OrderDate\": \"08-07-2023\", \"CustomerID\": 5, \"City\": \"Ahmedabad\", \"Country\": \"India\", \"ProductID\": 5, \"Price\": 5000, \"Qty_Sold\": 2, \"Qty_Sold_Units\": \"pieces\", \"Amount\": 10000, \"Amount_Currency\": \"INR\", \"ShipDate\": \"02-08-2023\", \"OrderStatus\": \"Closed\"},\n",
    "    {\"SalesOrder\": \"SO1025\", \"OrderDate\": \"25-07-2023\", \"CustomerID\": 3, \"City\": \"Chennai\", \"Country\": \"India\", \"ProductID\": 4, \"Price\": 5000, \"Qty_Sold\": 7, \"Qty_Sold_Units\": \"pieces\", \"Amount\": 35000, \"Amount_Currency\": \"INR\", \"ShipDate\": \"19-08-2023\", \"OrderStatus\": \"Closed\"},\n",
    "    {\"SalesOrder\": \"SO1026\", \"OrderDate\": \"14-07-2023\", \"CustomerID\": 2, \"City\": \"Ahmedabad\", \"Country\": \"India\", \"ProductID\": 1, \"Price\": 1500, \"Qty_Sold\": 8, \"Qty_Sold_Units\": \"pieces\", \"Amount\": 12000, \"Amount_Currency\": \"INR\", \"ShipDate\": \"08-08-2023\", \"OrderStatus\": \"Open\"},\n",
    "    {\"SalesOrder\": \"SO1027\", \"OrderDate\": \"24-07-2023\", \"CustomerID\": 3, \"City\": \"Hyderabad\", \"Country\": \"India\", \"ProductID\": 3, \"Price\": 3000, \"Qty_Sold\": 9, \"Qty_Sold_Units\": \"pieces\", \"Amount\": 27000, \"Amount_Currency\": \"INR\", \"ShipDate\": \"18-08-2023\", \"OrderStatus\": \"Hold\"},\n",
    "    {\"SalesOrder\": \"SO1028\", \"OrderDate\": \"25-07-2023\", \"CustomerID\": 3, \"City\": \"Chennai\", \"Country\": \"India\", \"ProductID\": 6, \"Price\": 5000, \"Qty_Sold\": 8, \"Qty_Sold_Units\": \"pieces\", \"Amount\": 40000, \"Amount_Currency\": \"INR\", \"ShipDate\": \"19-08-2023\", \"OrderStatus\": \"Hold\"},\n",
    "    {\"SalesOrder\": \"SO1029\", \"OrderDate\": \"17-09-2023\", \"CustomerID\": 2, \"City\": \"Chennai\", \"Country\": \"India\", \"ProductID\": 5, \"Price\": 1500, \"Qty_Sold\": 8, \"Qty_Sold_Units\": \"pieces\", \"Amount\": 12000, \"Amount_Currency\": \"INR\", \"ShipDate\": \"12-10-2023\", \"OrderStatus\": \"Open\"},\n",
    "    {\"SalesOrder\": \"SO1030\", \"OrderDate\": \"08-09-2023\", \"CustomerID\": 4, \"City\": \"Chennai\", \"Country\": \"India\", \"ProductID\": 7, \"Price\": 8000, \"Qty_Sold\": 9, \"Qty_Sold_Units\": \"pieces\", \"Amount\": 72000, \"Amount_Currency\": \"INR\", \"ShipDate\": \"03-10-2023\", \"OrderStatus\": \"Open\"}\n",
    "]\n",
    "\n",
    "\n",
    "sales_schema = \"\"\"SalesOrder string, \n",
    "                    OrderDate string, \n",
    "                    CustomerID integer, \n",
    "                    City string, \n",
    "                    Country string, \n",
    "                    ProductID integer, \n",
    "                    Price integer, \n",
    "                    Qty_Sold integer, \n",
    "                    Qty_Sold_Units string, \n",
    "                    Amount integer, \n",
    "                    Amount_Currency string, \n",
    "                    ShipDate string,\n",
    "                    OrderStatus string\n",
    "                    \"\"\"\n"
   ]
  },
  {
   "cell_type": "code",
   "execution_count": null,
   "id": "17588093-9f50-414b-86c5-770dea7ae11b",
   "metadata": {},
   "outputs": [],
   "source": [
    "customer_data = [\n",
    "    {\"CustomerID\": 1, \"CustomerName\": \"Amit Joshi\", \"CustomerBucket\": \"Bucket-1\", \"CustomerRegion\": \"South\", \"LessThanFullTruckLoad\": \"Yes\", \"YearOnYearVolumeIncrease\": \"No\"},\n",
    "    {\"CustomerID\": 2, \"CustomerName\": \"Divya Reddy\", \"CustomerBucket\": \"Bucket-2\", \"CustomerRegion\": \"North\", \"LessThanFullTruckLoad\": \"No\", \"YearOnYearVolumeIncrease\": \"Yes\"},\n",
    "    {\"CustomerID\": 3, \"CustomerName\": \"Rohan Patel\", \"CustomerBucket\": \"Bucket-1\", \"CustomerRegion\": \"South\", \"LessThanFullTruckLoad\": \"Yes\", \"YearOnYearVolumeIncrease\": \"No\"},\n",
    "    {\"CustomerID\": 4, \"CustomerName\": \"Nikhil Desai\", \"CustomerBucket\": \"Bucket-1\", \"CustomerRegion\": \"South\", \"LessThanFullTruckLoad\": \"Yes\", \"YearOnYearVolumeIncrease\": \"Yes\"},\n",
    "    {\"CustomerID\": 5, \"CustomerName\": \"Pooja Mehta\", \"CustomerBucket\": \"Bucket-2\", \"CustomerRegion\": \"South\", \"LessThanFullTruckLoad\": \"No\", \"YearOnYearVolumeIncrease\": \"No\"}\n",
    "]\n",
    "\n",
    "customer_schema = \"\"\"\n",
    "                    CustomerID integer,\n",
    "                    CustomerName string,\n",
    "                    CustomerBucket string,\n",
    "                    CustomerRegion string,\n",
    "                    LessThanFullTruckLoad string,\n",
    "                    YearOnYearVolumeIncrease string\n",
    "                \"\"\""
   ]
  },
  {
   "cell_type": "code",
   "execution_count": null,
   "id": "d281e4bc-bc7e-4d24-9cfe-b1a32f154e74",
   "metadata": {},
   "outputs": [],
   "source": [
    "product_data = [\n",
    "    {\"ProductID\": 1, \"ProductName\": \"Keyboard\", \"ProductCategory\": \"Peripherals\", \"ProductSubCategory\": \"Input Device\"},\n",
    "    {\"ProductID\": 2, \"ProductName\": \"Printer\", \"ProductCategory\": \"Peripherals\", \"ProductSubCategory\": \"Output Device\"},\n",
    "    {\"ProductID\": 3, \"ProductName\": \"Laptop\", \"ProductCategory\": \"Computing Device\", \"ProductSubCategory\": \"Portable Computer\"},\n",
    "    {\"ProductID\": 4, \"ProductName\": \"External Hard Drive\", \"ProductCategory\": \"Storage\", \"ProductSubCategory\": \"External Storage\"},\n",
    "    {\"ProductID\": 5, \"ProductName\": \"Wireless Mouse\", \"ProductCategory\": \"Peripherals\", \"ProductSubCategory\": \"Input Device\"},\n",
    "    {\"ProductID\": 6, \"ProductName\": \"Monitor\", \"ProductCategory\": \"Peripherals\", \"ProductSubCategory\": \"Output Device\"},\n",
    "    {\"ProductID\": 7, \"ProductName\": \"Webcam\", \"ProductCategory\": \"Peripherals\", \"ProductSubCategory\": \"Video Device\"}\n",
    "]\n",
    "\n",
    "product_schema = \"\"\"\n",
    "                    ProductID integer,\n",
    "                    ProductName string,\n",
    "                    ProductCategory string,\n",
    "                    ProductSubCategory string\n",
    "                \"\"\""
   ]
  },
  {
   "cell_type": "code",
   "execution_count": null,
   "id": "9647546a-790d-4304-83b4-d106965b308c",
   "metadata": {
    "tags": []
   },
   "outputs": [],
   "source": [
    "sales_df = spark.createDataFrame(data=sales_data, schema=sales_schema)"
   ]
  },
  {
   "cell_type": "code",
   "execution_count": null,
   "id": "e6e21fcb-c26a-4972-be8f-2a7f2079262e",
   "metadata": {},
   "outputs": [],
   "source": [
    "product_df = spark.createDataFrame(data=product_data, schema=product_schema)"
   ]
  },
  {
   "cell_type": "code",
   "execution_count": null,
   "id": "3844f0a5-67f8-4afc-9ac5-a03b4a77ce32",
   "metadata": {},
   "outputs": [],
   "source": [
    "customer_df = spark.createDataFrame(data=customer_data, schema=customer_schema)"
   ]
  },
  {
   "cell_type": "code",
   "execution_count": null,
   "id": "d73714ee-dc9a-4a44-bf30-ce6a3e52a9d3",
   "metadata": {
    "tags": []
   },
   "outputs": [],
   "source": [
    "sales_df.printSchema()"
   ]
  },
  {
   "cell_type": "code",
   "execution_count": null,
   "id": "19f55297-7f4a-4e58-9ce3-95b375059b71",
   "metadata": {
    "tags": []
   },
   "outputs": [],
   "source": [
    "sales_df.show()\n",
    "product_df.show()\n",
    "customer_df.show()"
   ]
  },
  {
   "cell_type": "code",
   "execution_count": null,
   "id": "22072a54-ed8b-431e-89de-82d71d30025a",
   "metadata": {},
   "outputs": [],
   "source": [
    "sales_df.printSchema()"
   ]
  },
  {
   "cell_type": "code",
   "execution_count": null,
   "id": "fcc4a736-45a3-4bc4-852f-a12e73aa1955",
   "metadata": {},
   "outputs": [],
   "source": [
    "# lower of city\n",
    "\n",
    "# select lower(city) from table\n",
    "from pyspark.sql.functions import lower\n",
    "new_df = sales_df.withColumn( \"City\", lower(\"city\") )"
   ]
  },
  {
   "cell_type": "code",
   "execution_count": null,
   "id": "1f4bd9e3-bcb8-4313-a1a7-5601cbd854b1",
   "metadata": {},
   "outputs": [],
   "source": [
    "# new_df.printSchema()\n",
    "new_df.show()"
   ]
  },
  {
   "cell_type": "code",
   "execution_count": null,
   "id": "25b0df0f-823b-475b-9ad1-2fdc2659ee99",
   "metadata": {},
   "outputs": [],
   "source": [
    "sales_df.columns\n",
    "if 'City1' in sales_df.columns:\n",
    "    sales_df.withColumn(\"New city\", lower(\"city\")) \\\n",
    "        .drop(\"city\") \\\n",
    "        .show()\n",
    "else:\n",
    "    sales_df.withColumn(\"New city\", lower(\"city\")) \\\n",
    "        .show()"
   ]
  },
  {
   "cell_type": "code",
   "execution_count": null,
   "id": "a4d726d3-379c-4b21-8464-141bc9b31945",
   "metadata": {},
   "outputs": [],
   "source": [
    "# lower of city\n",
    "\n",
    "# select lower(city) from table\n",
    "from pyspark.sql.functions import lower\n",
    "sales_df.withColumn(\"New city\", lower(\"city\")) \\\n",
    "        .drop(\"city\") \\\n",
    "        .show()"
   ]
  },
  {
   "cell_type": "code",
   "execution_count": null,
   "id": "878ede03-29be-4128-b97b-31b759f2db2f",
   "metadata": {},
   "outputs": [],
   "source": [
    "# lower of city\n",
    "\n",
    "# select lower(city) from table\n",
    "from pyspark.sql.functions import lower\n",
    "sales_df.withColumn(\"City\", lower(\"city\")) \\\n",
    "        .show()"
   ]
  },
  {
   "cell_type": "code",
   "execution_count": null,
   "id": "04436c1e-eedb-484e-9175-afc470018f1d",
   "metadata": {},
   "outputs": [],
   "source": [
    "from pyspark.sql.functions import lower, upper\n",
    "sales_df.withColumn(\"Country\", upper(\"country\")) \\\n",
    "        .show()"
   ]
  },
  {
   "cell_type": "code",
   "execution_count": null,
   "id": "111ef95e-1fcc-487c-88d5-cab27adfb062",
   "metadata": {},
   "outputs": [],
   "source": [
    "from pyspark.sql.functions import lower, upper\n",
    "sales_df.withColumn(\"Country\", upper(\"country\")) \\\n",
    "        .withColumn(\"City\", lower(\"city\")) \\\n",
    "        .show()"
   ]
  },
  {
   "cell_type": "code",
   "execution_count": null,
   "id": "394342b3-e6b7-470b-9ca6-82d41baf3bcf",
   "metadata": {},
   "outputs": [],
   "source": [
    "from pyspark.sql.functions import lower, upper\n",
    "sales_df.withColumns(\n",
    "                    {\n",
    "                     \"Country\" : upper(sales_df.Country) ,\n",
    "                     \"City\": lower(sales_df.City)\n",
    "                    } \n",
    "            ) \\\n",
    "        .show()"
   ]
  },
  {
   "cell_type": "code",
   "execution_count": null,
   "id": "7c5d5540-7579-4283-99fd-4c924d6542d4",
   "metadata": {},
   "outputs": [],
   "source": [
    "from pyspark.sql.functions import lower, upper, col\n",
    "sales_df.withColumns({\"Country\" : upper(sales_df.Country) ,\n",
    "                     \"City\": lower(sales_df.City)}) \\\n",
    "        .withColumn( \"SalesAmount\" , col(\"Price\") * col(\"Qty_Sold\")  ) \\\n",
    "        .select(\"SalesOrder\",\"Price\",\"Qty_Sold\",\"SalesAmount\") \\\n",
    "        .show()"
   ]
  },
  {
   "cell_type": "code",
   "execution_count": null,
   "id": "a96d29b7-c216-4a85-84e3-6ec9d582dbaf",
   "metadata": {},
   "outputs": [],
   "source": [
    "from pyspark.sql.functions import lower, upper, col, to_date, date_format\n",
    "sales_df.withColumn( \"OrderYear\" , date_format(to_date(sales_df.OrderDate, 'dd-MM-yyyy'), 'dd') ) \\\n",
    "        .show()"
   ]
  },
  {
   "cell_type": "code",
   "execution_count": null,
   "id": "48bdff6d-1f9e-4dd2-8118-f94562a53e24",
   "metadata": {},
   "outputs": [],
   "source": [
    "from pyspark.sql.functions import lower, upper, col, to_date, date_format\n",
    "sales_df.withColumns({\"Country\" : upper(sales_df.Country) ,\n",
    "                     \"City\": lower(sales_df.City),\n",
    "                     \"SalesAmount\": col(\"Price\") * col(\"Qty_Sold\"),\n",
    "                     \"Year\" : date_format(to_date(sales_df.OrderDate, 'dd-MM-yyyy'),'yyyy'),\n",
    "                      \"Month\" : date_format(to_date(sales_df.OrderDate, 'dd-MM-yyyy'),'MM')  # MMM , MMMM\n",
    "                     } ) \\\n",
    "        .show()"
   ]
  },
  {
   "cell_type": "code",
   "execution_count": null,
   "id": "11d2358d-443f-4b92-b900-c01c13535e0a",
   "metadata": {},
   "outputs": [],
   "source": [
    "from pyspark.sql.functions import lower, upper, col, to_date, date_format\n",
    "sales_df.withColumns({\"Country\" : upper(sales_df.Country) ,\n",
    "                     \"City\": lower(sales_df.City),\n",
    "                     \"SalesAmount\": col(\"Price\") * col(\"Qty_Sold\"),\n",
    "                     \"Year\" : date_format(to_date(sales_df.OrderDate, 'dd-MM-yyyy'),'yyyy'),\n",
    "                      \"Month\" : date_format(to_date(sales_df.OrderDate, 'dd-MM-yyyy'),'MM'),  # MMM , MMMM\n",
    "                      \"Day\" : date_format(to_date(sales_df.OrderDate, 'dd-MM-yyyy'),'dd') # d\n",
    "                     } ) \\\n",
    "        .show()"
   ]
  },
  {
   "cell_type": "code",
   "execution_count": null,
   "id": "85769cf3-e955-4d1a-b214-622b8024eab8",
   "metadata": {},
   "outputs": [],
   "source": [
    "from pyspark.sql.functions import lower, upper, col, to_date, date_format,weekofyear\n",
    "sales_df.withColumns({\"Country\" : upper(sales_df.Country) ,\n",
    "                     \"City\": lower(sales_df.City),\n",
    "                     \"SalesAmount\": col(\"Price\") * col(\"Qty_Sold\"),\n",
    "                     \"Year\" : date_format(to_date(sales_df.OrderDate, 'dd-MM-yyyy'),'yyyy'),\n",
    "                      \"Month\" : date_format(to_date(sales_df.OrderDate, 'dd-MM-yyyy'),'MM'),  # MMM , MMMM\n",
    "                      \"Day\" : date_format(to_date(sales_df.OrderDate, 'dd-MM-yyyy'),'dd'), # d\n",
    "                      \"week\" : weekofyear(to_date(sales_df.OrderDate, 'dd-MM-yyyy'))\n",
    "                     } ) \\\n",
    "        .show()"
   ]
  },
  {
   "cell_type": "code",
   "execution_count": null,
   "id": "21483a91-3dc7-4817-b620-95948be66b82",
   "metadata": {},
   "outputs": [],
   "source": [
    "from pyspark.sql.functions import lower, upper, col, to_date, date_format,weekofyear , datediff\n",
    "sales_df.withColumn(\"NumberOfDaysin\" ,datediff(to_date(sales_df.ShipDate, 'dd-MM-yyyy') , to_date(sales_df.OrderDate, 'dd-MM-yyyy'))) \\\n",
    "        .show()"
   ]
  },
  {
   "cell_type": "code",
   "execution_count": null,
   "id": "ae7ad69f-00aa-4825-bb63-c8edcad8d4ac",
   "metadata": {},
   "outputs": [],
   "source": [
    "sales_df.rdd.getNumPartitions()"
   ]
  },
  {
   "cell_type": "code",
   "execution_count": null,
   "id": "b7524122-b53e-41f0-8967-696f71e14b30",
   "metadata": {},
   "outputs": [],
   "source": [
    "from pyspark.sql.functions import spark_partition_id\n",
    "sales_df.withColumn(\"part_col\", spark_partition_id()) \\\n",
    "        .head(40) "
   ]
  },
  {
   "cell_type": "code",
   "execution_count": null,
   "id": "56b5aa10-02a2-437b-a0a1-8c9409291ea2",
   "metadata": {},
   "outputs": [],
   "source": [
    "# Window Function\n",
    "# rank() over (partition by City order by Amount)\n",
    "from pyspark.sql import Window\n",
    "from pyspark.sql.functions import rank\n",
    "\n",
    "window = Window.partitionBy(\"City\").orderBy(\"Amount\")\n",
    "sales_df.withColumn(\"Rank\", rank().over(window)).show()"
   ]
  },
  {
   "cell_type": "code",
   "execution_count": null,
   "id": "51bdcd36-710b-43db-938e-1f11a528b5e0",
   "metadata": {},
   "outputs": [],
   "source": [
    "# Window Function\n",
    "# rank() over (partition by City order by Amount)\n",
    "from pyspark.sql import Window\n",
    "from pyspark.sql.functions import row_number\n",
    "\n",
    "window = Window.orderBy(\"Amount\")\n",
    "sales_df.withColumn(\"row_number\", rank().over(window)).show()"
   ]
  },
  {
   "cell_type": "code",
   "execution_count": null,
   "id": "afafe782-6ce8-4448-a141-0968bd161013",
   "metadata": {},
   "outputs": [],
   "source": [
    "# Join\n",
    "\n",
    "sales_with_customer = sales_df.join(customer_df, on=sales_df.CustomerID == customer_df.CustomerID , how=\"left\") \\\n",
    "                              .show()"
   ]
  },
  {
   "cell_type": "code",
   "execution_count": null,
   "id": "96de8ec5-a413-48e7-9544-46c7bc99198b",
   "metadata": {},
   "outputs": [],
   "source": [
    "sales_with_customer = sales_df.join(customer_df, sales_df.CustomerID == customer_df.CustomerID, how=\"left\")\n",
    "sales_with_customer.show()\n"
   ]
  },
  {
   "cell_type": "code",
   "execution_count": null,
   "id": "0cbdccfc-5875-4cce-88ec-9542561cb374",
   "metadata": {},
   "outputs": [],
   "source": [
    "# union\n",
    "\n",
    "sales_2024 = [\n",
    "    {\"SalesOrder\": \"SO101\", \"OrderDate\": \"08-01-2024\", \"CustomerID\": 1, \"City\": \"Hyderabad\", \"Country\": \"India\", \"ProductID\": 1, \"Price\": 3000, \"Qty_Sold\": 4, \"Qty_Sold_Units\": \"pieces\", \"Amount\": 12000, \"Amount_Currency\": \"INR\", \"ShipDate\": \"18-01-2024\", \"OrderStatus\": \"Open\"},\n",
    "    {\"SalesOrder\": \"SO102\", \"OrderDate\": \"19-01-2024\", \"CustomerID\": 2, \"City\": \"Mumbai\", \"Country\": \"India\", \"ProductID\": 2, \"Price\": 1500, \"Qty_Sold\": 5, \"Qty_Sold_Units\": \"pieces\", \"Amount\": 7500, \"Amount_Currency\": \"INR\", \"ShipDate\": \"29-01-2024\", \"OrderStatus\": \"Open\"},\n",
    "    {\"SalesOrder\": \"SO103\", \"OrderDate\": \"01-01-2024\", \"CustomerID\": 3, \"City\": \"Pune\", \"Country\": \"India\", \"ProductID\": 3, \"Price\": 1500, \"Qty_Sold\": 10, \"Qty_Sold_Units\": \"pieces\", \"Amount\": 15000, \"Amount_Currency\": \"INR\", \"ShipDate\": \"11-01-2024\", \"OrderStatus\": \"Closed\"},\n",
    "    {\"SalesOrder\": \"SO104\", \"OrderDate\": \"30-03-2024\", \"CustomerID\": 2, \"City\": \"Pune\", \"Country\": \"India\", \"ProductID\": 4, \"Price\": 10000, \"Qty_Sold\": 8, \"Qty_Sold_Units\": \"pieces\", \"Amount\": 80000, \"Amount_Currency\": \"INR\", \"ShipDate\": \"09-04-2024\", \"OrderStatus\": \"Closed\"},\n",
    "    {\"SalesOrder\": \"SO105\", \"OrderDate\": \"14-03-2024\", \"CustomerID\": 4, \"City\": \"Ahmedabad\", \"Country\": \"India\", \"ProductID\": 5, \"Price\": 8000, \"Qty_Sold\": 10, \"Qty_Sold_Units\": \"pieces\", \"Amount\": 80000, \"Amount_Currency\": \"INR\", \"ShipDate\": \"19-03-2024\", \"OrderStatus\": \"Open\"},\n",
    "    {\"SalesOrder\": \"SO106\", \"OrderDate\": \"20-03-2024\", \"CustomerID\": 5, \"City\": \"Hyderabad\", \"Country\": \"India\", \"ProductID\": 6, \"Price\": 8000, \"Qty_Sold\": 10, \"Qty_Sold_Units\": \"pieces\", \"Amount\": 80000, \"Amount_Currency\": \"INR\", \"ShipDate\": \"25-03-2024\", \"OrderStatus\": \"Hold\"},\n",
    "    {\"SalesOrder\": \"SO107\", \"OrderDate\": \"10-03-2024\", \"CustomerID\": 1, \"City\": \"Mumbai\", \"Country\": \"India\", \"ProductID\": 7, \"Price\": 10000, \"Qty_Sold\": 2, \"Qty_Sold_Units\": \"pieces\", \"Amount\": 20000, \"Amount_Currency\": \"INR\", \"ShipDate\": \"15-03-2024\", \"OrderStatus\": \"Hold\"},\n",
    "    {\"SalesOrder\": \"SO108\", \"OrderDate\": \"03-04-2024\", \"CustomerID\": 4, \"City\": \"Pune\", \"Country\": \"India\", \"ProductID\": 5, \"Price\": 8000, \"Qty_Sold\": 1, \"Qty_Sold_Units\": \"pieces\", \"Amount\": 8000, \"Amount_Currency\": \"INR\", \"ShipDate\": \"08-04-2024\", \"OrderStatus\": \"Open\"},\n",
    "    {\"SalesOrder\": \"SO109\", \"OrderDate\": \"03-05-2024\", \"CustomerID\": 1, \"City\": \"Ahmedabad\", \"Country\": \"India\", \"ProductID\": 6, \"Price\": 70000, \"Qty_Sold\": 5, \"Qty_Sold_Units\": \"pieces\", \"Amount\": 350000, \"Amount_Currency\": \"INR\", \"ShipDate\": \"18-05-2024\", \"OrderStatus\": \"Open\"},\n",
    "    {\"SalesOrder\": \"SO1010\", \"OrderDate\": \"01-05-2024\", \"CustomerID\": 4, \"City\": \"Ahmedabad\", \"Country\": \"India\", \"ProductID\": 6, \"Price\": 2000, \"Qty_Sold\": 7, \"Qty_Sold_Units\": \"pieces\", \"Amount\": 14000, \"Amount_Currency\": \"INR\", \"ShipDate\": \"16-05-2024\", \"OrderStatus\": \"Closed\"},\n",
    "    {\"SalesOrder\": \"SO1011\", \"OrderDate\": \"19-06-2024\", \"CustomerID\": 1, \"City\": \"Chennai\", \"Country\": \"India\", \"ProductID\": 2, \"Price\": 2000, \"Qty_Sold\": 1, \"Qty_Sold_Units\": \"pieces\", \"Amount\": 2000, \"Amount_Currency\": \"INR\", \"ShipDate\": \"04-07-2024\", \"OrderStatus\": \"Closed\"},\n",
    "    {\"SalesOrder\": \"SO1012\", \"OrderDate\": \"08-07-2024\", \"CustomerID\": 3, \"City\": \"Mumbai\", \"Country\": \"India\", \"ProductID\": 1, \"Price\": 3000, \"Qty_Sold\": 5, \"Qty_Sold_Units\": \"pieces\", \"Amount\": 15000, \"Amount_Currency\": \"INR\", \"ShipDate\": \"23-07-2024\", \"OrderStatus\": \"Open\"},\n",
    "    {\"SalesOrder\": \"SO1013\", \"OrderDate\": \"14-08-2024\", \"CustomerID\": 4, \"City\": \"Mumbai\", \"Country\": \"India\", \"ProductID\": 1, \"Price\": 10000, \"Qty_Sold\": 10, \"Qty_Sold_Units\": \"pieces\", \"Amount\": 100000, \"Amount_Currency\": \"INR\", \"ShipDate\": \"29-08-2024\", \"OrderStatus\": \"Open\"},\n",
    "    {\"SalesOrder\": \"SO1014\", \"OrderDate\": \"02-09-2024\", \"CustomerID\": 5, \"City\": \"Ahmedabad\", \"Country\": \"India\", \"ProductID\": 3, \"Price\": 10000, \"Qty_Sold\": 10, \"Qty_Sold_Units\": \"pieces\", \"Amount\": 100000, \"Amount_Currency\": \"INR\", \"ShipDate\": \"17-09-2024\", \"OrderStatus\": \"Open\"},\n",
    "    {\"SalesOrder\": \"SO1015\", \"OrderDate\": \"23-09-2024\", \"CustomerID\": 1, \"City\": \"Chennai\", \"Country\": \"India\", \"ProductID\": 3, \"Price\": 8000, \"Qty_Sold\": 6, \"Qty_Sold_Units\": \"pieces\", \"Amount\": 48000, \"Amount_Currency\": \"INR\", \"ShipDate\": \"08-10-2024\", \"OrderStatus\": \"Open\"},\n",
    "    \n",
    "]\n",
    "\n",
    "sales_2023 = [\n",
    "    \n",
    "    {\"SalesOrder\": \"SO1016\", \"OrderDate\": \"20-01-2023\", \"CustomerID\": 4, \"City\": \"Ahmedabad\", \"Country\": \"India\", \"ProductID\": 7, \"Price\": 8000, \"Qty_Sold\": 4, \"Qty_Sold_Units\": \"pieces\", \"Amount\": 32000, \"Amount_Currency\": \"INR\", \"ShipDate\": \"09-02-2023\", \"OrderStatus\": \"Open\"},\n",
    "    {\"SalesOrder\": \"SO1017\", \"OrderDate\": \"01-01-2023\", \"CustomerID\": 4, \"City\": \"Mumbai\", \"Country\": \"India\", \"ProductID\": 1, \"Price\": 8000, \"Qty_Sold\": 6, \"Qty_Sold_Units\": \"pieces\", \"Amount\": 48000, \"Amount_Currency\": \"INR\", \"ShipDate\": \"21-01-2023\", \"OrderStatus\": \"Closed\"},\n",
    "    {\"SalesOrder\": \"SO1018\", \"OrderDate\": \"26-01-2023\", \"CustomerID\": 4, \"City\": \"Pune\", \"Country\": \"India\", \"ProductID\": 3, \"Price\": 10000, \"Qty_Sold\": 5, \"Qty_Sold_Units\": \"pieces\", \"Amount\": 50000, \"Amount_Currency\": \"INR\", \"ShipDate\": \"15-02-2023\", \"OrderStatus\": \"Closed\"},\n",
    "    {\"SalesOrder\": \"SO1019\", \"OrderDate\": \"18-02-2023\", \"CustomerID\": 3, \"City\": \"Mumbai\", \"Country\": \"India\", \"ProductID\": 1, \"Price\": 2000, \"Qty_Sold\": 5, \"Qty_Sold_Units\": \"pieces\", \"Amount\": 10000, \"Amount_Currency\": \"INR\", \"ShipDate\": \"10-03-2023\", \"OrderStatus\": \"Closed\"},\n",
    "    {\"SalesOrder\": \"SO1020\", \"OrderDate\": \"24-03-2023\", \"CustomerID\": 1, \"City\": \"Pune\", \"Country\": \"India\", \"ProductID\": 4, \"Price\": 5000, \"Qty_Sold\": 5, \"Qty_Sold_Units\": \"pieces\", \"Amount\": 25000, \"Amount_Currency\": \"INR\", \"ShipDate\": \"13-04-2023\", \"OrderStatus\": \"Closed\"},\n",
    "    {\"SalesOrder\": \"SO1021\", \"OrderDate\": \"16-03-2023\", \"CustomerID\": 1, \"City\": \"Mumbai\", \"Country\": \"India\", \"ProductID\": 7, \"Price\": 10000, \"Qty_Sold\": 7, \"Qty_Sold_Units\": \"pieces\", \"Amount\": 70000, \"Amount_Currency\": \"INR\", \"ShipDate\": \"10-04-2023\", \"OrderStatus\": \"Closed\"},\n",
    "    {\"SalesOrder\": \"SO1022\", \"OrderDate\": \"30-04-2023\", \"CustomerID\": 1, \"City\": \"Pune\", \"Country\": \"India\", \"ProductID\": 3, \"Price\": 70000, \"Qty_Sold\": 5, \"Qty_Sold_Units\": \"pieces\", \"Amount\": 350000, \"Amount_Currency\": \"INR\", \"ShipDate\": \"25-05-2023\", \"OrderStatus\": \"Closed\"},\n",
    "    {\"SalesOrder\": \"SO1023\", \"OrderDate\": \"13-04-2023\", \"CustomerID\": 4, \"City\": \"Mumbai\", \"Country\": \"India\", \"ProductID\": 5, \"Price\": 3000, \"Qty_Sold\": 3, \"Qty_Sold_Units\": \"pieces\", \"Amount\": 9000, \"Amount_Currency\": \"INR\", \"ShipDate\": \"08-05-2023\", \"OrderStatus\": \"Closed\"},\n",
    "    {\"SalesOrder\": \"SO1024\", \"OrderDate\": \"08-07-2023\", \"CustomerID\": 5, \"City\": \"Ahmedabad\", \"Country\": \"India\", \"ProductID\": 5, \"Price\": 5000, \"Qty_Sold\": 2, \"Qty_Sold_Units\": \"pieces\", \"Amount\": 10000, \"Amount_Currency\": \"INR\", \"ShipDate\": \"02-08-2023\", \"OrderStatus\": \"Closed\"},\n",
    "    {\"SalesOrder\": \"SO1025\", \"OrderDate\": \"25-07-2023\", \"CustomerID\": 3, \"City\": \"Chennai\", \"Country\": \"India\", \"ProductID\": 4, \"Price\": 5000, \"Qty_Sold\": 7, \"Qty_Sold_Units\": \"pieces\", \"Amount\": 35000, \"Amount_Currency\": \"INR\", \"ShipDate\": \"19-08-2023\", \"OrderStatus\": \"Closed\"},\n",
    "    {\"SalesOrder\": \"SO1026\", \"OrderDate\": \"14-07-2023\", \"CustomerID\": 2, \"City\": \"Ahmedabad\", \"Country\": \"India\", \"ProductID\": 1, \"Price\": 1500, \"Qty_Sold\": 8, \"Qty_Sold_Units\": \"pieces\", \"Amount\": 12000, \"Amount_Currency\": \"INR\", \"ShipDate\": \"08-08-2023\", \"OrderStatus\": \"Open\"},\n",
    "    {\"SalesOrder\": \"SO1027\", \"OrderDate\": \"24-07-2023\", \"CustomerID\": 3, \"City\": \"Hyderabad\", \"Country\": \"India\", \"ProductID\": 3, \"Price\": 3000, \"Qty_Sold\": 9, \"Qty_Sold_Units\": \"pieces\", \"Amount\": 27000, \"Amount_Currency\": \"INR\", \"ShipDate\": \"18-08-2023\", \"OrderStatus\": \"Hold\"},\n",
    "    {\"SalesOrder\": \"SO1028\", \"OrderDate\": \"25-07-2023\", \"CustomerID\": 3, \"City\": \"Chennai\", \"Country\": \"India\", \"ProductID\": 6, \"Price\": 5000, \"Qty_Sold\": 8, \"Qty_Sold_Units\": \"pieces\", \"Amount\": 40000, \"Amount_Currency\": \"INR\", \"ShipDate\": \"19-08-2023\", \"OrderStatus\": \"Hold\"},\n",
    "    {\"SalesOrder\": \"SO1029\", \"OrderDate\": \"17-09-2023\", \"CustomerID\": 2, \"City\": \"Chennai\", \"Country\": \"India\", \"ProductID\": 5, \"Price\": 1500, \"Qty_Sold\": 8, \"Qty_Sold_Units\": \"pieces\", \"Amount\": 12000, \"Amount_Currency\": \"INR\", \"ShipDate\": \"12-10-2023\", \"OrderStatus\": \"Open\"},\n",
    "    {\"SalesOrder\": \"SO1030\", \"OrderDate\": \"08-09-2023\", \"CustomerID\": 4, \"City\": \"Chennai\", \"Country\": \"India\", \"ProductID\": 7, \"Price\": 8000, \"Qty_Sold\": 9, \"Qty_Sold_Units\": \"pieces\", \"Amount\": 72000, \"Amount_Currency\": \"INR\", \"ShipDate\": \"03-10-2023\", \"OrderStatus\": \"Open\"}\n",
    "]\n",
    "\n",
    "sales_schema = \"\"\"SalesOrder string, \n",
    "                    OrderDate string, \n",
    "                    CustomerID integer, \n",
    "                    City string, \n",
    "                    Country string, \n",
    "                    ProductID integer, \n",
    "                    Price integer, \n",
    "                    Qty_Sold integer, \n",
    "                    Qty_Sold_Units string, \n",
    "                    Amount integer, \n",
    "                    Amount_Currency string, \n",
    "                    ShipDate string,\n",
    "                    OrderStatus string\n",
    "                    \"\"\""
   ]
  },
  {
   "cell_type": "code",
   "execution_count": null,
   "id": "985688ff-155f-4aae-9e5b-07c938578fb3",
   "metadata": {},
   "outputs": [],
   "source": [
    "sales_df_2024 = spark.createDataFrame(data=sales_2024, schema=sales_schema)\n",
    "sales_df_2023 = spark.createDataFrame(data=sales_2023, schema=sales_schema)\n",
    "sales_df_2024.show()\n",
    "sales_df_2023.show()"
   ]
  },
  {
   "cell_type": "code",
   "execution_count": null,
   "id": "88ef85a3-0347-4db0-a77d-a8b7f61d6da4",
   "metadata": {},
   "outputs": [],
   "source": [
    "# Union\n",
    "# select * from sales_2024\n",
    "# union\n",
    "# select * from sales_2023\n",
    "# union in pyspark will act like union all in sql . so distinct after union if required\n",
    "new_sales_df = sales_df_2024.union(sales_df_2023)\n"
   ]
  },
  {
   "cell_type": "code",
   "execution_count": null,
   "id": "b94ccd47-49f8-4eda-8a52-5dcb13fca6e2",
   "metadata": {},
   "outputs": [],
   "source": [
    "new_sales_df.show()"
   ]
  },
  {
   "cell_type": "code",
   "execution_count": null,
   "id": "c08e9fb9-bffc-4d8d-b85f-a4b5cd52d3fc",
   "metadata": {},
   "outputs": [],
   "source": [
    "# regex replace\n",
    "\n",
    "# Sample data\n",
    "from pyspark.sql.functions import regexp_replace\n",
    "data = [(\"John Doe\", \"123-456-7890\"), \n",
    "        (\"Jane Smith\", \"(123) 456-7890\"), \n",
    "        (\"Sam Brown\", \"123 456 7890\")]\n",
    "columns = [\"Name\", \"Phone\"]\n",
    "\n",
    "# Create DataFrame\n",
    "df = spark.createDataFrame(data, columns)\n",
    "\n",
    "# Use regexp_replace to clean phone numbers\n",
    "cleaned_df = df.withColumn(\"CleanedPhone\", regexp_replace(\"Phone\", r\"\\D\", \"\"))  # Remove non-digit characters\n",
    "\n",
    "# Show results\n",
    "cleaned_df.show()"
   ]
  },
  {
   "cell_type": "code",
   "execution_count": null,
   "id": "2efa54e8-f5b7-4418-90c6-ab41ca9f77d5",
   "metadata": {},
   "outputs": [],
   "source": [
    "# Drop None\n",
    "\n",
    "data = [(\"John\", 25, None),\n",
    "        (\"Jane\", None, None),\n",
    "        (None, 30, 4000),\n",
    "        (\"Alice\", 28, 3000)]\n",
    "\n",
    "columns = [\"Name\", \"Age\", \"Salary\"]\n",
    "\n",
    "#DataFrame.dropna(how='any', subset=None, thresh=None)\n",
    "\n",
    "# how:\n",
    "\n",
    "# 'any' (default): Drops a row if any column has a null value.\n",
    "# 'all': Drops a row only if all columns have null values.\n",
    "\n",
    "# subset:\n",
    "\n",
    "# A list of column names. The method checks for null values only in the specified columns.\n",
    "# thresh:\n",
    "\n",
    "# Specifies the minimum number of non-null values required to retain a row. Overrides how if specified."
   ]
  },
  {
   "cell_type": "code",
   "execution_count": null,
   "id": "864f41ab-c64e-430d-b51c-d53ea5c66dde",
   "metadata": {},
   "outputs": [],
   "source": [
    "drop_df = spark.createDataFrame(data, columns)"
   ]
  },
  {
   "cell_type": "code",
   "execution_count": null,
   "id": "714ce2cf-6b08-4054-8662-18f7130dcdf3",
   "metadata": {},
   "outputs": [],
   "source": [
    "drop_df.show()"
   ]
  },
  {
   "cell_type": "code",
   "execution_count": null,
   "id": "420a957d-6495-4a0e-a073-0ed6b3fd6041",
   "metadata": {},
   "outputs": [],
   "source": [
    "drop_df.dropna(how='any').show()"
   ]
  },
  {
   "cell_type": "code",
   "execution_count": null,
   "id": "581ff3de-34b7-44e8-9610-76969c642447",
   "metadata": {},
   "outputs": [],
   "source": [
    "drop_df.dropna(how='any',subset=[\"Name\",\"Age\"]).show()"
   ]
  },
  {
   "cell_type": "code",
   "execution_count": null,
   "id": "f63c1bb3-c610-4bda-9f2d-d69858e5501d",
   "metadata": {},
   "outputs": [],
   "source": [
    "drop_df.dropna(how='any',thresh=2).show()"
   ]
  },
  {
   "cell_type": "code",
   "execution_count": null,
   "id": "c758f7fb-9a26-4867-b6fe-9f733a9c0316",
   "metadata": {},
   "outputs": [],
   "source": [
    "# Reprtition or coalesce only reduce\n",
    "\n",
    "from pyspark.sql.functions import spark_partition_id\n",
    "sales_df.rdd.getNumPartitions()"
   ]
  },
  {
   "cell_type": "code",
   "execution_count": null,
   "id": "5c37912e-40ae-4468-91d1-60c6e451d73a",
   "metadata": {},
   "outputs": [],
   "source": [
    "sales_re_df = sales_df.repartition(16)"
   ]
  },
  {
   "cell_type": "code",
   "execution_count": null,
   "id": "dbd4a70e-8eab-4632-b344-ead0063b0051",
   "metadata": {},
   "outputs": [],
   "source": [
    "sales_re_df.rdd.getNumPartitions()"
   ]
  },
  {
   "cell_type": "code",
   "execution_count": null,
   "id": "1bb54b5f-a572-43d1-b92a-f34e56991def",
   "metadata": {},
   "outputs": [],
   "source": [
    "sales_reduced_df = sales_re_df.coalesce(22)"
   ]
  },
  {
   "cell_type": "code",
   "execution_count": null,
   "id": "a2a70a15-bea1-409e-93c0-4283c0c7081c",
   "metadata": {},
   "outputs": [],
   "source": [
    "sales_reduced_df.rdd.getNumPartitions()"
   ]
  },
  {
   "cell_type": "code",
   "execution_count": null,
   "id": "e4f8e92d-1c0e-45a4-8b5a-03a067decdd5",
   "metadata": {},
   "outputs": [],
   "source": [
    "sales_reduced_df = sales_re_df.coalesce(8)"
   ]
  },
  {
   "cell_type": "code",
   "execution_count": null,
   "id": "77c7cd80-7f13-4cbf-9ed1-45cd16845cb6",
   "metadata": {},
   "outputs": [],
   "source": [
    "sales_reduced_df.rdd.getNumPartitions()"
   ]
  },
  {
   "cell_type": "code",
   "execution_count": null,
   "id": "5d8f6a89-c1ae-4090-a5d5-d3b60f2c75e7",
   "metadata": {},
   "outputs": [],
   "source": []
  }
 ],
 "metadata": {
  "kernelspec": {
   "display_name": "Python 3 (ipykernel)",
   "language": "python",
   "name": "python3"
  },
  "language_info": {
   "codemirror_mode": {
    "name": "ipython",
    "version": 3
   },
   "file_extension": ".py",
   "mimetype": "text/x-python",
   "name": "python",
   "nbconvert_exporter": "python",
   "pygments_lexer": "ipython3",
   "version": "3.10.12"
  }
 },
 "nbformat": 4,
 "nbformat_minor": 5
}
