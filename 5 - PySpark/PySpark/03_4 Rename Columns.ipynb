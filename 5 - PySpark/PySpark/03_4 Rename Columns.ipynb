{
 "cells": [
  {
   "cell_type": "markdown",
   "id": "d5d7cdae-5127-46f9-b804-258fab3abd64",
   "metadata": {},
   "source": [
    "## Transformations\n",
    "\n",
    "    1. Select\n",
    "    2. expr, Col\n",
    "    3. SelectExpr"
   ]
  },
  {
   "cell_type": "code",
   "execution_count": null,
   "id": "5ab2c2a9-7758-4d4d-9a86-619e25a7322f",
   "metadata": {
    "tags": []
   },
   "outputs": [],
   "source": [
    "from pyspark.sql import SparkSession\n",
    "\n",
    "spark = SparkSession.builder \\\n",
    "                    .master(\"local[*]\") \\\n",
    "                    .appName(\"Create Dataframe\") \\\n",
    "                    .getOrCreate()"
   ]
  },
  {
   "cell_type": "code",
   "execution_count": null,
   "id": "abd7bbd9-efb2-4ad4-8ce0-ebeee4dc9264",
   "metadata": {
    "tags": []
   },
   "outputs": [],
   "source": [
    "spark.stop()"
   ]
  },
  {
   "cell_type": "code",
   "execution_count": null,
   "id": "b7b6a22a-c597-4738-a5f5-40042028451b",
   "metadata": {
    "tags": []
   },
   "outputs": [],
   "source": [
    "spark.sparkContext.defaultParallelism"
   ]
  },
  {
   "cell_type": "code",
   "execution_count": null,
   "id": "5231afeb-922c-4c11-8e33-ecea22828e2c",
   "metadata": {
    "tags": []
   },
   "outputs": [],
   "source": [
    "sales_data = [\n",
    "['SO101', '08-01-2024', 'Amit Joshi', 'Hyderabad', 'India', 'Keyboard', 3000, 4, 'pieces', 12000, 'INR', '18-01-2024'],\n",
    "['SO102', '19-01-2024', 'Divya Reddy', 'Mumbai', 'India', 'Printer', 1500, 5, 'pieces', 7500, 'INR', '29-01-2024'],\n",
    "['SO103', '01-01-2024', 'Rohan Patel', 'Pune', 'India', 'Laptop', 1500, 10, 'pieces', 15000, 'INR', '11-01-2024'],\n",
    "['SO104', '30-03-2024', 'Divya Reddy', 'Pune', 'India', 'External Hard Drive', 10000, 8, 'pieces', 80000, 'INR', '09-04-2024'],\n",
    "['SO105', '14-03-2024', 'Nikhil Desai', 'Ahmedabad', 'India', 'Wireless Mouse', 8000, 10, 'pieces', 80000, 'INR', '19-03-2024'],\n",
    "['SO106', '20-03-2024', 'Pooja Mehta', 'Hyderabad', 'India', 'Monitor', 8000, 10, 'pieces', 80000, 'INR', '25-03-2024'],\n",
    "['SO107', '10-03-2024', 'Amit Joshi', 'Mumbai', 'India', 'Webcam', 10000, 2, 'pieces', 20000, 'INR', '15-03-2024'],\n",
    "['SO108', '03-04-2024', 'Nikhil Desai', 'Pune', 'India', 'Wireless Mouse', 8000, 1, 'pieces', 8000, 'INR', '08-04-2024'],\n",
    "['SO109', '03-05-2024', 'Amit Joshi', 'Ahmedabad', 'India', 'Monitor', 70000, 5, 'pieces', 350000, 'INR', '18-05-2024'],\n",
    "['SO1010', '01-05-2024', 'Nikhil Desai', 'Ahmedabad', 'India', 'Monitor', 2000, 7, 'pieces', 14000, 'INR', '16-05-2024'],\n",
    "['SO1011', '19-06-2024', 'Amit Joshi', 'Chennai', 'India', 'Printer', 2000, 1, 'pieces', 2000, 'INR', '04-07-2024'],\n",
    "['SO1012', '08-07-2024', 'Rohan Patel', 'Mumbai', 'India', 'Keyboard', 3000, 5, 'pieces', 15000, 'INR', '23-07-2024'],\n",
    "['SO1013', '14-08-2024', 'Nikhil Desai', 'Mumbai', 'India', 'Keyboard', 10000, 10, 'pieces', 100000, 'INR', '29-08-2024'],\n",
    "['SO1014', '02-09-2024', 'Pooja Mehta', 'Ahmedabad', 'India', 'Laptop', 10000, 10, 'pieces', 100000, 'INR', '17-09-2024'],\n",
    "['SO1015', '23-09-2024', 'Amit Joshi', 'Chennai', 'India', 'Laptop', 8000, 6, 'pieces', 48000, 'INR', '08-10-2024'],\n",
    "['SO1016', '20-01-2023', 'Nikhil Desai', 'Ahmedabad', 'India', 'Webcam', 8000, 4, 'pieces', 32000, 'INR', '09-02-2023'],\n",
    "['SO1017', '01-01-2023', 'Nikhil Desai', 'Mumbai', 'India', 'Keyboard', 8000, 6, 'pieces', 48000, 'INR', '21-01-2023'],\n",
    "['SO1018', '26-01-2023', 'Nikhil Desai', 'Pune', 'India', 'Laptop', 10000, 5, 'pieces', 50000, 'INR', '15-02-2023'],\n",
    "['SO1019', '18-02-2023', 'Rohan Patel', 'Mumbai', 'India', 'Keyboard', 2000, 5, 'pieces', 10000, 'INR', '10-03-2023'],\n",
    "['SO1020', '24-03-2023', 'Amit Joshi', 'Pune', 'India', 'External Hard Drive', 5000, 5, 'pieces', 25000, 'INR', '13-04-2023'],\n",
    "['SO1021', '16-03-2023', 'Amit Joshi', 'Mumbai', 'India', 'Webcam', 10000, 7, 'pieces', 70000, 'INR', '10-04-2023'],\n",
    "['SO1022', '30-04-2023', 'Amit Joshi', 'Pune', 'India', 'Laptop', 70000, 5, 'pieces', 350000, 'INR', '25-05-2023'],\n",
    "['SO1023', '13-04-2023', 'Nikhil Desai', 'Mumbai', 'India', 'Wireless Mouse', 3000, 3, 'pieces', 9000, 'INR', '08-05-2023'],\n",
    "['SO1024', '08-07-2023', 'Pooja Mehta', 'Ahmedabad', 'India', 'Wireless Mouse', 5000, 2, 'pieces', 10000, 'INR', '02-08-2023'],\n",
    "['SO1025', '25-07-2023', 'Rohan Patel', 'Chennai', 'India', 'External Hard Drive', 5000, 7, 'pieces', 35000, 'INR', '19-08-2023'],\n",
    "['SO1026', '14-07-2023', 'Divya Reddy', 'Ahmedabad', 'India', 'Keyboard', 1500, 8, 'pieces', 12000, 'INR', '08-08-2023'],\n",
    "['SO1027', '24-07-2023', 'Rohan Patel', 'Hyderabad', 'India', 'Laptop', 3000, 9, 'pieces', 27000, 'INR', '18-08-2023'],\n",
    "['SO1028', '25-07-2023', 'Rohan Patel', 'Chennai', 'India', 'Monitor', 5000, 8, 'pieces', 40000, 'INR', '19-08-2023'],\n",
    "['SO1029', '17-09-2023', 'Divya Reddy', 'Chennai', 'India', 'Wireless Mouse', 1500, 8, 'pieces', 12000, 'INR', '12-10-2023'],\n",
    "['SO1030', '08-09-2023', 'Nikhil Desai', 'Chennai', 'India', 'Webcam', 8000, 9, 'pieces', 72000, 'INR', '03-10-2023']\n",
    "\n",
    "]\n",
    "\n",
    "sales_schema = \"\"\"SalesOrder string, \n",
    "                    OrderDate string, \n",
    "                    CustomerName string, \n",
    "                    City string, \n",
    "                    Country string, \n",
    "                    Product string, \n",
    "                    Price integer, \n",
    "                    Qty_Sold integer, \n",
    "                    Qty_Sold_Units string, \n",
    "                    Amount integer, \n",
    "                    Amount_Currency string, \n",
    "                    ShipDate string\"\"\"\n"
   ]
  },
  {
   "cell_type": "code",
   "execution_count": null,
   "id": "9647546a-790d-4304-83b4-d106965b308c",
   "metadata": {
    "tags": []
   },
   "outputs": [],
   "source": [
    "sales_df = spark.createDataFrame(data=sales_data, schema=sales_schema)"
   ]
  },
  {
   "cell_type": "code",
   "execution_count": null,
   "id": "d73714ee-dc9a-4a44-bf30-ce6a3e52a9d3",
   "metadata": {
    "tags": []
   },
   "outputs": [],
   "source": [
    "sales_df.printSchema()"
   ]
  },
  {
   "cell_type": "code",
   "execution_count": null,
   "id": "19f55297-7f4a-4e58-9ce3-95b375059b71",
   "metadata": {
    "tags": []
   },
   "outputs": [],
   "source": [
    "sales_df.show()"
   ]
  },
  {
   "cell_type": "code",
   "execution_count": null,
   "id": "65d63ab0-50fe-48de-81b2-f24adb89c08e",
   "metadata": {},
   "outputs": [],
   "source": [
    "# Rename a column\n",
    "\n",
    "sales_df.withColumnRenamed(\"Amount\", \"SalesAmount\").show()"
   ]
  },
  {
   "cell_type": "code",
   "execution_count": null,
   "id": "fcc4a736-45a3-4bc4-852f-a12e73aa1955",
   "metadata": {},
   "outputs": [],
   "source": [
    "# Rename multiple columns\n",
    "\n",
    "sales_df.withColumnsRenamed(\n",
    "                        {\"Amount\": \"SalesAmount\", \n",
    "                         \"Qty_Sold\":\"QuantitySold\"}\n",
    "                        ).show()"
   ]
  },
  {
   "cell_type": "code",
   "execution_count": null,
   "id": "18243425-4bf5-41e9-bc62-281fc830cfd7",
   "metadata": {},
   "outputs": [],
   "source": [
    "renamed_dict = {\"Amount\": \"SalesAmount\", \n",
    "                         \"Qty_Sold\":\"QuantitySold\"}\n",
    "\n",
    "sales_df.withColumnsRenamed(renamed_dict).show()"
   ]
  },
  {
   "cell_type": "code",
   "execution_count": null,
   "id": "83be6b69-a997-4499-a510-dc186ab0a74f",
   "metadata": {},
   "outputs": [],
   "source": []
  }
 ],
 "metadata": {
  "kernelspec": {
   "display_name": "Python 3 (ipykernel)",
   "language": "python",
   "name": "python3"
  },
  "language_info": {
   "codemirror_mode": {
    "name": "ipython",
    "version": 3
   },
   "file_extension": ".py",
   "mimetype": "text/x-python",
   "name": "python",
   "nbconvert_exporter": "python",
   "pygments_lexer": "ipython3",
   "version": "3.10.12"
  }
 },
 "nbformat": 4,
 "nbformat_minor": 5
}
