{
 "cells": [
  {
   "cell_type": "code",
   "execution_count": 12,
   "id": "3428a471-2918-4917-a5d3-5b87e08f1d19",
   "metadata": {},
   "outputs": [],
   "source": [
    "from pyspark.sql import SparkSession\n",
    "\n",
    "spark = (\n",
    "    SparkSession.builder\n",
    "        .master(\"local[*]\")\n",
    "        .appName(\"My First Application\")\n",
    "        .getOrCreate()\n",
    ")"
   ]
  },
  {
   "cell_type": "code",
   "execution_count": 2,
   "id": "3f104730-d3d4-45f5-9be1-585379c2513a",
   "metadata": {},
   "outputs": [
    {
     "data": {
      "text/html": [
       "\n",
       "            <div>\n",
       "                <p><b>SparkSession - in-memory</b></p>\n",
       "                \n",
       "        <div>\n",
       "            <p><b>SparkContext</b></p>\n",
       "\n",
       "            <p><a href=\"http://d5775686e5e4:4040\">Spark UI</a></p>\n",
       "\n",
       "            <dl>\n",
       "              <dt>Version</dt>\n",
       "                <dd><code>v3.5.3</code></dd>\n",
       "              <dt>Master</dt>\n",
       "                <dd><code>local[*]</code></dd>\n",
       "              <dt>AppName</dt>\n",
       "                <dd><code>My First Application</code></dd>\n",
       "            </dl>\n",
       "        </div>\n",
       "        \n",
       "            </div>\n",
       "        "
      ],
      "text/plain": [
       "<pyspark.sql.session.SparkSession at 0x7f7ff71649a0>"
      ]
     },
     "execution_count": 2,
     "metadata": {},
     "output_type": "execute_result"
    }
   ],
   "source": [
    "spark"
   ]
  },
  {
   "cell_type": "code",
   "execution_count": 13,
   "id": "e8d7d494-8184-4a53-9cd8-486ca68ad6d9",
   "metadata": {},
   "outputs": [
    {
     "data": {
      "text/plain": [
       "8"
      ]
     },
     "execution_count": 13,
     "metadata": {},
     "output_type": "execute_result"
    }
   ],
   "source": [
    "spark.sparkContext.defaultParallelism"
   ]
  },
  {
   "cell_type": "code",
   "execution_count": 15,
   "id": "a72bd307-7c3f-4998-8702-294bce75cd84",
   "metadata": {},
   "outputs": [],
   "source": [
    "emp_data = [ \n",
    "            [\"e1\",\"Pratap\"],\n",
    "             [\"e2\",\"Sruthi\"],\n",
    "             [\"e3\",\"Kiyanshitha\"],\n",
    "            [\"e4\",\"Nirupama\"] \n",
    "           ]"
   ]
  },
  {
   "cell_type": "code",
   "execution_count": 16,
   "id": "93902e56-fb19-4cbf-9c11-cb35c73a4666",
   "metadata": {},
   "outputs": [],
   "source": [
    "emp_schema = \"empno string, empname string\""
   ]
  },
  {
   "cell_type": "code",
   "execution_count": 18,
   "id": "6536c9e1-840e-455c-8d91-931f099ae899",
   "metadata": {},
   "outputs": [],
   "source": [
    "emp_df = spark.createDataFrame(data=emp_data, schema= emp_schema)"
   ]
  },
  {
   "cell_type": "code",
   "execution_count": 19,
   "id": "026ab1a1-98f7-4dbf-8430-d4f249375675",
   "metadata": {},
   "outputs": [
    {
     "name": "stdout",
     "output_type": "stream",
     "text": [
      "+-----+-----------+\n",
      "|empno|    empname|\n",
      "+-----+-----------+\n",
      "|   e1|     Pratap|\n",
      "|   e2|     Sruthi|\n",
      "|   e3|Kiyanshitha|\n",
      "|   e4|   Nirupama|\n",
      "+-----+-----------+\n",
      "\n"
     ]
    }
   ],
   "source": [
    "emp_df.show()"
   ]
  },
  {
   "cell_type": "code",
   "execution_count": 21,
   "id": "fcd6f8cd-ae2e-4be6-9776-8a1c643903fb",
   "metadata": {},
   "outputs": [],
   "source": [
    "# select * from emp_df where empno = 'e1'\n",
    "\n",
    "emp_e1_data = emp_df.where(\"empno = 'e1'\")"
   ]
  },
  {
   "cell_type": "code",
   "execution_count": 22,
   "id": "af916350-2da1-4371-b3c5-6b89d3154e73",
   "metadata": {},
   "outputs": [
    {
     "name": "stdout",
     "output_type": "stream",
     "text": [
      "+-----+-------+\n",
      "|empno|empname|\n",
      "+-----+-------+\n",
      "|   e1| Pratap|\n",
      "+-----+-------+\n",
      "\n"
     ]
    }
   ],
   "source": [
    "emp_e1_data.show()"
   ]
  },
  {
   "cell_type": "code",
   "execution_count": null,
   "id": "3a077c1e-f51c-406a-852d-6282a9ed8a66",
   "metadata": {},
   "outputs": [],
   "source": []
  }
 ],
 "metadata": {
  "kernelspec": {
   "display_name": "Python 3 (ipykernel)",
   "language": "python",
   "name": "python3"
  },
  "language_info": {
   "codemirror_mode": {
    "name": "ipython",
    "version": 3
   },
   "file_extension": ".py",
   "mimetype": "text/x-python",
   "name": "python",
   "nbconvert_exporter": "python",
   "pygments_lexer": "ipython3",
   "version": "3.10.12"
  }
 },
 "nbformat": 4,
 "nbformat_minor": 5
}
